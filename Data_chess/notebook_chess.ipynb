{
 "cells": [
  {
   "cell_type": "markdown",
   "metadata": {},
   "source": [
    "This notebook serve as an analysis of the data from the Kaggle competition \"Titanic: Machine Learning from Disaster\""
   ]
  },
  {
   "cell_type": "code",
   "execution_count": null,
   "metadata": {},
   "outputs": [],
   "source": [
    "import pandas as pd \n",
    "import matplotlib.pyplot as plt\n",
    "import seaborn as sns\n",
    "from pyspark.sql.functions import concat_ws"
   ]
  },
  {
   "cell_type": "code",
   "execution_count": null,
   "metadata": {},
   "outputs": [],
   "source": [
    "# Load the dataset \n",
    "df_games = pd.read_csv(\"games_original.csv\")\n",
    "\n",
    "# Extract all the line where is a missing value \n",
    "df_games_missing = df_games[df_games.isnull().any(axis=1)]\n",
    "\n",
    "# Remove the df_games_missing from df_games\n",
    "df_games = df_games.drop(df_games_missing.index)\n",
    "\n",
    "df_games['Target'] = df_games['winner'].astype(str) + '-' + df_games['victory_status'].astype(str)\n"
   ]
  }
 ],
 "metadata": {
  "kernelspec": {
   "display_name": "myenv",
   "language": "python",
   "name": "python3"
  },
  "language_info": {
   "codemirror_mode": {
    "name": "ipython",
    "version": 3
   },
   "file_extension": ".py",
   "mimetype": "text/x-python",
   "name": "python",
   "nbconvert_exporter": "python",
   "pygments_lexer": "ipython3",
   "version": "3.9.19"
  }
 },
 "nbformat": 4,
 "nbformat_minor": 2
}
