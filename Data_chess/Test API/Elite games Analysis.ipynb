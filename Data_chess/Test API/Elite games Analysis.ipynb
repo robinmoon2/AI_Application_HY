{
 "cells": [
  {
   "metadata": {},
   "cell_type": "markdown",
   "source": [
    "# Analyzing Elite Chess Games\n",
    "[DataSet](https://database.nikonoel.fr/)\n",
    "## Setup\n",
    "Install the python-chess library\n",
    "```bash\n",
    "pip install python-chess\n",
    "```"
   ],
   "id": "cb57f099df2de187"
  },
  {
   "cell_type": "code",
   "id": "initial_id",
   "metadata": {
    "collapsed": true,
    "ExecuteTime": {
     "end_time": "2024-11-21T06:01:06.560461Z",
     "start_time": "2024-11-21T06:01:06.460291Z"
    }
   },
   "source": [
    "import chess.pgn\n",
    "import os\n",
    "from collections import Counter"
   ],
   "outputs": [],
   "execution_count": 1
  },
  {
   "metadata": {
    "ExecuteTime": {
     "end_time": "2024-11-21T06:01:09.332608Z",
     "start_time": "2024-11-21T06:01:09.316979Z"
    }
   },
   "cell_type": "code",
   "source": [
    "# Define the folder containing PGN files\n",
    "pgn_folder = \"Lichess Elite Database/Lichess Elite Database\"\n"
   ],
   "id": "f554cb379b33f230",
   "outputs": [],
   "execution_count": 2
  },
  {
   "metadata": {
    "ExecuteTime": {
     "end_time": "2024-11-21T06:01:10.766351Z",
     "start_time": "2024-11-21T06:01:10.758962Z"
    }
   },
   "cell_type": "code",
   "source": [
    "# Initialize counters\n",
    "game_count = 0\n",
    "results = Counter()\n",
    "openings = Counter()\n",
    "move_counts = []"
   ],
   "id": "eb6c2eaacde66bd4",
   "outputs": [],
   "execution_count": 3
  },
  {
   "metadata": {
    "ExecuteTime": {
     "end_time": "2024-11-21T06:29:45.548864Z",
     "start_time": "2024-11-21T06:28:28.440602Z"
    }
   },
   "cell_type": "code",
   "source": [
    "# process file in the folder\n",
    "for file_name in os.listdir(pgn_folder):\n",
    "    if file_name.endswith(\".pgn\") and game_count<30000:\n",
    "            with open(os.path.join(pgn_folder, file_name), \"r\") as pgn_file:\n",
    "                while True:\n",
    "                    game = chess.pgn.read_game(pgn_file)\n",
    "                    if game is None:\n",
    "                        break\n",
    "                    game_count += 1\n",
    "                    # Get game result\n",
    "                    result = game.headers.get(\"Result\", \"Unknown\")\n",
    "                    results[result] += 1\n",
    "\n",
    "                    # Get opening\n",
    "                    opening = game.headers.get(\"Opening\", \"Unknown\")\n",
    "                    openings[opening] += 1\n",
    "\n",
    "                    # Get number of moves\n",
    "                    move_count = sum(1 for _ in game.mainline_moves())\n",
    "                    move_counts.append(move_count)"
   ],
   "id": "31ef680895f40471",
   "outputs": [],
   "execution_count": 6
  },
  {
   "metadata": {
    "ExecuteTime": {
     "end_time": "2024-11-21T06:27:29.089549Z",
     "start_time": "2024-11-21T06:13:44.628800Z"
    }
   },
   "cell_type": "code",
   "source": [
    "for file_name in os.listdir(pgn_folder):\n",
    "    if file_name.endswith(\".pgn\"):\n",
    "        with open(os.path.join(pgn_folder, file_name), \"r\") as pgn_file:\n",
    "            while True:\n",
    "                game = chess.pgn.read_game(pgn_file)\n",
    "                if game is None:\n",
    "                    break\n",
    "                game_count += 1\n",
    "        print(f\"Processed {game_count} games in {file_name}\")\n",
    "        game_count = 0"
   ],
   "id": "eec4b7a416e1d292",
   "outputs": [
    {
     "name": "stdout",
     "output_type": "stream",
     "text": [
      "Processed 10 games in lichess_elite_2013-09.pgn\n",
      "Processed 4 games in lichess_elite_2013-11.pgn\n",
      "Processed 3 games in lichess_elite_2014-01.pgn\n",
      "Processed 23 games in lichess_elite_2014-02.pgn\n",
      "Processed 5 games in lichess_elite_2014-03.pgn\n",
      "Processed 7 games in lichess_elite_2014-04.pgn\n",
      "Processed 264 games in lichess_elite_2014-05.pgn\n",
      "Processed 140 games in lichess_elite_2014-06.pgn\n",
      "Processed 92 games in lichess_elite_2014-07.pgn\n",
      "Processed 138 games in lichess_elite_2014-08.pgn\n",
      "Processed 207 games in lichess_elite_2014-09.pgn\n",
      "Processed 448 games in lichess_elite_2014-10.pgn\n",
      "Processed 238 games in lichess_elite_2014-11.pgn\n",
      "Processed 539 games in lichess_elite_2014-12.pgn\n",
      "Processed 464 games in lichess_elite_2015-01.pgn\n",
      "Processed 774 games in lichess_elite_2015-02.pgn\n",
      "Processed 741 games in lichess_elite_2015-03.pgn\n",
      "Processed 580 games in lichess_elite_2015-04.pgn\n",
      "Processed 639 games in lichess_elite_2015-05.pgn\n",
      "Processed 351 games in lichess_elite_2015-06.pgn\n",
      "Processed 478 games in lichess_elite_2015-07.pgn\n",
      "Processed 869 games in lichess_elite_2015-08.pgn\n",
      "Processed 1750 games in lichess_elite_2015-09.pgn\n",
      "Processed 1563 games in lichess_elite_2015-10.pgn\n",
      "Processed 3454 games in lichess_elite_2015-11.pgn\n",
      "Processed 5549 games in lichess_elite_2015-12.pgn\n",
      "Processed 9091 games in lichess_elite_2016-01.pgn\n",
      "Processed 13149 games in lichess_elite_2016-02.pgn\n",
      "Processed 18414 games in lichess_elite_2016-03.pgn\n",
      "Processed 21329 games in lichess_elite_2016-04.pgn\n",
      "Processed 27933 games in lichess_elite_2016-05.pgn\n",
      "Processed 30747 games in lichess_elite_2016-06.pgn\n",
      "Processed 29762 games in lichess_elite_2016-07.pgn\n",
      "Processed 25887 games in lichess_elite_2016-08.pgn\n",
      "Processed 26152 games in lichess_elite_2016-09.pgn\n",
      "Processed 25622 games in lichess_elite_2016-10.pgn\n",
      "Processed 27868 games in lichess_elite_2016-11.pgn\n"
     ]
    },
    {
     "ename": "KeyboardInterrupt",
     "evalue": "",
     "output_type": "error",
     "traceback": [
      "\u001B[1;31m---------------------------------------------------------------------------\u001B[0m",
      "\u001B[1;31mKeyboardInterrupt\u001B[0m                         Traceback (most recent call last)",
      "Cell \u001B[1;32mIn[5], line 5\u001B[0m\n\u001B[0;32m      3\u001B[0m \u001B[38;5;28;01mwith\u001B[39;00m \u001B[38;5;28mopen\u001B[39m(os\u001B[38;5;241m.\u001B[39mpath\u001B[38;5;241m.\u001B[39mjoin(pgn_folder, file_name), \u001B[38;5;124m\"\u001B[39m\u001B[38;5;124mr\u001B[39m\u001B[38;5;124m\"\u001B[39m) \u001B[38;5;28;01mas\u001B[39;00m pgn_file:\n\u001B[0;32m      4\u001B[0m     \u001B[38;5;28;01mwhile\u001B[39;00m \u001B[38;5;28;01mTrue\u001B[39;00m:\n\u001B[1;32m----> 5\u001B[0m         game \u001B[38;5;241m=\u001B[39m \u001B[43mchess\u001B[49m\u001B[38;5;241;43m.\u001B[39;49m\u001B[43mpgn\u001B[49m\u001B[38;5;241;43m.\u001B[39;49m\u001B[43mread_game\u001B[49m\u001B[43m(\u001B[49m\u001B[43mpgn_file\u001B[49m\u001B[43m)\u001B[49m\n\u001B[0;32m      6\u001B[0m         \u001B[38;5;28;01mif\u001B[39;00m game \u001B[38;5;129;01mis\u001B[39;00m \u001B[38;5;28;01mNone\u001B[39;00m:\n\u001B[0;32m      7\u001B[0m             \u001B[38;5;28;01mbreak\u001B[39;00m\n",
      "File \u001B[1;32m~\\.conda\\envs\\AI_Application_HY\\lib\\site-packages\\chess\\pgn.py:1748\u001B[0m, in \u001B[0;36mread_game\u001B[1;34m(handle, Visitor)\u001B[0m\n\u001B[0;32m   1746\u001B[0m \u001B[38;5;28;01mif\u001B[39;00m visitor\u001B[38;5;241m.\u001B[39mbegin_parse_san(board_stack[\u001B[38;5;241m-\u001B[39m\u001B[38;5;241m1\u001B[39m], token) \u001B[38;5;129;01mis\u001B[39;00m \u001B[38;5;129;01mnot\u001B[39;00m SKIP:\n\u001B[0;32m   1747\u001B[0m     \u001B[38;5;28;01mtry\u001B[39;00m:\n\u001B[1;32m-> 1748\u001B[0m         move \u001B[38;5;241m=\u001B[39m \u001B[43mvisitor\u001B[49m\u001B[38;5;241;43m.\u001B[39;49m\u001B[43mparse_san\u001B[49m\u001B[43m(\u001B[49m\u001B[43mboard_stack\u001B[49m\u001B[43m[\u001B[49m\u001B[38;5;241;43m-\u001B[39;49m\u001B[38;5;241;43m1\u001B[39;49m\u001B[43m]\u001B[49m\u001B[43m,\u001B[49m\u001B[43m \u001B[49m\u001B[43mtoken\u001B[49m\u001B[43m)\u001B[49m\n\u001B[0;32m   1749\u001B[0m     \u001B[38;5;28;01mexcept\u001B[39;00m \u001B[38;5;167;01mValueError\u001B[39;00m \u001B[38;5;28;01mas\u001B[39;00m error:\n\u001B[0;32m   1750\u001B[0m         visitor\u001B[38;5;241m.\u001B[39mhandle_error(error)\n",
      "File \u001B[1;32m~\\.conda\\envs\\AI_Application_HY\\lib\\site-packages\\chess\\pgn.py:1121\u001B[0m, in \u001B[0;36mBaseVisitor.parse_san\u001B[1;34m(self, board, san)\u001B[0m\n\u001B[0;32m   1107\u001B[0m \u001B[38;5;28;01mdef\u001B[39;00m \u001B[38;5;21mparse_san\u001B[39m(\u001B[38;5;28mself\u001B[39m, board: chess\u001B[38;5;241m.\u001B[39mBoard, san: \u001B[38;5;28mstr\u001B[39m) \u001B[38;5;241m-\u001B[39m\u001B[38;5;241m>\u001B[39m chess\u001B[38;5;241m.\u001B[39mMove:\n\u001B[0;32m   1108\u001B[0m \u001B[38;5;250m    \u001B[39m\u001B[38;5;124;03m\"\"\"\u001B[39;00m\n\u001B[0;32m   1109\u001B[0m \u001B[38;5;124;03m    When the visitor is used by a parser, this is called to parse a move\u001B[39;00m\n\u001B[0;32m   1110\u001B[0m \u001B[38;5;124;03m    in standard algebraic notation.\u001B[39;00m\n\u001B[1;32m   (...)\u001B[0m\n\u001B[0;32m   1119\u001B[0m \u001B[38;5;124;03m        they can be handled for everyone.\u001B[39;00m\n\u001B[0;32m   1120\u001B[0m \u001B[38;5;124;03m    \"\"\"\u001B[39;00m\n\u001B[1;32m-> 1121\u001B[0m     \u001B[38;5;28;01mreturn\u001B[39;00m \u001B[43mboard\u001B[49m\u001B[38;5;241;43m.\u001B[39;49m\u001B[43mparse_san\u001B[49m\u001B[43m(\u001B[49m\u001B[43msan\u001B[49m\u001B[43m)\u001B[49m\n",
      "File \u001B[1;32m~\\.conda\\envs\\AI_Application_HY\\lib\\site-packages\\chess\\__init__.py:3150\u001B[0m, in \u001B[0;36mBoard.parse_san\u001B[1;34m(self, san)\u001B[0m\n\u001B[0;32m   3148\u001B[0m \u001B[38;5;66;03m# Match normal moves.\u001B[39;00m\n\u001B[0;32m   3149\u001B[0m match \u001B[38;5;241m=\u001B[39m SAN_REGEX\u001B[38;5;241m.\u001B[39mmatch(san)\n\u001B[1;32m-> 3150\u001B[0m \u001B[38;5;28;01mif\u001B[39;00m \u001B[38;5;129;01mnot\u001B[39;00m match:\n\u001B[0;32m   3151\u001B[0m     \u001B[38;5;66;03m# Null moves.\u001B[39;00m\n\u001B[0;32m   3152\u001B[0m     \u001B[38;5;28;01mif\u001B[39;00m san \u001B[38;5;129;01min\u001B[39;00m [\u001B[38;5;124m\"\u001B[39m\u001B[38;5;124m--\u001B[39m\u001B[38;5;124m\"\u001B[39m, \u001B[38;5;124m\"\u001B[39m\u001B[38;5;124mZ0\u001B[39m\u001B[38;5;124m\"\u001B[39m, \u001B[38;5;124m\"\u001B[39m\u001B[38;5;124m0000\u001B[39m\u001B[38;5;124m\"\u001B[39m, \u001B[38;5;124m\"\u001B[39m\u001B[38;5;124m@@@@\u001B[39m\u001B[38;5;124m\"\u001B[39m]:\n\u001B[0;32m   3153\u001B[0m         \u001B[38;5;28;01mreturn\u001B[39;00m Move\u001B[38;5;241m.\u001B[39mnull()\n",
      "\u001B[1;31mKeyboardInterrupt\u001B[0m: "
     ]
    }
   ],
   "execution_count": 5
  },
  {
   "metadata": {
    "ExecuteTime": {
     "end_time": "2024-11-21T06:30:16.284698Z",
     "start_time": "2024-11-21T06:30:16.271487Z"
    }
   },
   "cell_type": "code",
   "source": [
    "# Calculate statistics\n",
    "average_moves = sum(move_counts) / len(move_counts) if move_counts else 0"
   ],
   "id": "feb68b8cd7fc7a8a",
   "outputs": [],
   "execution_count": 7
  },
  {
   "metadata": {
    "ExecuteTime": {
     "end_time": "2024-11-21T06:30:20.224186Z",
     "start_time": "2024-11-21T06:30:20.207404Z"
    }
   },
   "cell_type": "code",
   "source": [
    "# Display results\n",
    "print(f\"Total games: {game_count}\")\n",
    "print(\"Results:\")\n",
    "for result, count in results.items():\n",
    "    print(f\"  {result}: {count}\")\n",
    "print(\"Most common openings:\")\n",
    "for opening, count in openings.most_common(5):\n",
    "    print(f\"  {opening}: {count}\")\n",
    "print(f\"Average moves per game: {average_moves:.2f}\")"
   ],
   "id": "af8427ef0971482d",
   "outputs": [
    {
     "name": "stdout",
     "output_type": "stream",
     "text": [
      "Total games: 30570\n",
      "Results:\n",
      "  0-1: 99831\n",
      "  1-0: 110232\n",
      "  1/2-1/2: 20481\n",
      "  *: 13\n",
      "Most common openings:\n",
      "  Indian Game: 3269\n",
      "  Pirc Defense: 2500\n",
      "  Modern Defense: 2414\n",
      "  Trompowsky Attack: 2155\n",
      "  King's Indian Attack: 1704\n",
      "Average moves per game: 82.72\n"
     ]
    }
   ],
   "execution_count": 8
  }
 ],
 "metadata": {
  "kernelspec": {
   "display_name": "Python 3",
   "language": "python",
   "name": "python3"
  },
  "language_info": {
   "codemirror_mode": {
    "name": "ipython",
    "version": 2
   },
   "file_extension": ".py",
   "mimetype": "text/x-python",
   "name": "python",
   "nbconvert_exporter": "python",
   "pygments_lexer": "ipython2",
   "version": "2.7.6"
  }
 },
 "nbformat": 4,
 "nbformat_minor": 5
}
