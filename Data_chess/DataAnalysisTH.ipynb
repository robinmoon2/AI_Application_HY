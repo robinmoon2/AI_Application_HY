{
 "cells": [
  {
   "cell_type": "code",
   "id": "initial_id",
   "metadata": {
    "collapsed": true,
    "ExecuteTime": {
     "end_time": "2024-11-13T10:31:24.691225Z",
     "start_time": "2024-11-13T10:31:24.683778Z"
    }
   },
   "source": [
    "import pandas as pd\n",
    "import seaborn as sns\n",
    "import matplotlib.pyplot as plt\n",
    "import numpy as np"
   ],
   "outputs": [],
   "execution_count": 140
  },
  {
   "metadata": {
    "ExecuteTime": {
     "end_time": "2024-11-13T10:31:24.918650Z",
     "start_time": "2024-11-13T10:31:24.754953Z"
    }
   },
   "cell_type": "code",
   "source": [
    "df = pd.read_csv(\"games_original.csv\")\n",
    "df "
   ],
   "id": "39692244cb4f565",
   "outputs": [
    {
     "data": {
      "text/plain": [
       "             id  rated    created_at  last_move_at  turns victory_status  \\\n",
       "0      TZJHLljE  False  1.504210e+12  1.504210e+12     13      outoftime   \n",
       "1      l1NXvwaE   True  1.504130e+12  1.504130e+12     16         resign   \n",
       "2      mIICvQHh   True  1.504130e+12  1.504130e+12     61           mate   \n",
       "3      kWKvrqYL   True  1.504110e+12  1.504110e+12     61           mate   \n",
       "4      9tXo1AUZ   True  1.504030e+12  1.504030e+12     95           mate   \n",
       "...         ...    ...           ...           ...    ...            ...   \n",
       "20053  EfqH7VVH   True  1.499791e+12  1.499791e+12     24         resign   \n",
       "20054  WSJDhbPl   True  1.499698e+12  1.499699e+12     82           mate   \n",
       "20055  yrAas0Kj   True  1.499698e+12  1.499698e+12     35           mate   \n",
       "20056  b0v4tRyF   True  1.499696e+12  1.499697e+12    109         resign   \n",
       "20057  N8G2JHGG   True  1.499643e+12  1.499644e+12     78           mate   \n",
       "\n",
       "      winner increment_code       white_id  white_rating            black_id  \\\n",
       "0      white           15+2       bourgris          1500                a-00   \n",
       "1      black           5+10           a-00          1322           skinnerua   \n",
       "2      white           5+10         ischia          1496                a-00   \n",
       "3      white           20+0  daniamurashov          1439        adivanov2009   \n",
       "4      white           30+3      nik221107          1523        adivanov2009   \n",
       "...      ...            ...            ...           ...                 ...   \n",
       "20053  white          10+10        belcolt          1691            jamboger   \n",
       "20054  black           10+0       jamboger          1233  farrukhasomiddinov   \n",
       "20055  white           10+0       jamboger          1219        schaaksmurf3   \n",
       "20056  white           10+0   marcodisogno          1360            jamboger   \n",
       "20057  black           10+0       jamboger          1235               ffbob   \n",
       "\n",
       "       black_rating                                              moves  \\\n",
       "0              1191  d4 d5 c4 c6 cxd5 e6 dxe6 fxe6 Nf3 Bb4+ Nc3 Ba5...   \n",
       "1              1261  d4 Nc6 e4 e5 f4 f6 dxe5 fxe5 fxe5 Nxe5 Qd4 Nc6...   \n",
       "2              1500  e4 e5 d3 d6 Be3 c6 Be2 b5 Nd2 a5 a4 c5 axb5 Nc...   \n",
       "3              1454  d4 d5 Nf3 Bf5 Nc3 Nf6 Bf4 Ng4 e3 Nc6 Be2 Qd7 O...   \n",
       "4              1469  e4 e5 Nf3 d6 d4 Nc6 d5 Nb4 a3 Na6 Nc3 Be7 b4 N...   \n",
       "...             ...                                                ...   \n",
       "20053          1220  d4 f5 e3 e6 Nf3 Nf6 Nc3 b6 Be2 Bb7 O-O Be7 Ne5...   \n",
       "20054          1196  d4 d6 Bf4 e5 Bg3 Nf6 e3 exd4 exd4 d5 c3 Bd6 Bd...   \n",
       "20055          1286  d4 d5 Bf4 Nc6 e3 Nf6 c3 e6 Nf3 Be7 Bd3 O-O Nbd...   \n",
       "20056          1227  e4 d6 d4 Nf6 e5 dxe5 dxe5 Qxd1+ Kxd1 Nd5 c4 Nb...   \n",
       "20057          1339  d4 d5 Bf4 Na6 e3 e6 c3 Nf6 Nf3 Bd7 Nbd2 b5 Bd3...   \n",
       "\n",
       "      opening_eco                            opening_name  opening_ply  \n",
       "0             D10        Slav Defense: Exchange Variation            5  \n",
       "1             B00  Nimzowitsch Defense: Kennedy Variation            4  \n",
       "2             C20   King's Pawn Game: Leonardis Variation            3  \n",
       "3             D02  Queen's Pawn Game: Zukertort Variation            3  \n",
       "4             C41                        Philidor Defense            5  \n",
       "...           ...                                     ...          ...  \n",
       "20053         A80                           Dutch Defense            2  \n",
       "20054         A41                            Queen's Pawn            2  \n",
       "20055         D00         Queen's Pawn Game: Mason Attack            3  \n",
       "20056         B07                            Pirc Defense            4  \n",
       "20057         D00         Queen's Pawn Game: Mason Attack            3  \n",
       "\n",
       "[20058 rows x 16 columns]"
      ],
      "text/html": [
       "<div>\n",
       "<style scoped>\n",
       "    .dataframe tbody tr th:only-of-type {\n",
       "        vertical-align: middle;\n",
       "    }\n",
       "\n",
       "    .dataframe tbody tr th {\n",
       "        vertical-align: top;\n",
       "    }\n",
       "\n",
       "    .dataframe thead th {\n",
       "        text-align: right;\n",
       "    }\n",
       "</style>\n",
       "<table border=\"1\" class=\"dataframe\">\n",
       "  <thead>\n",
       "    <tr style=\"text-align: right;\">\n",
       "      <th></th>\n",
       "      <th>id</th>\n",
       "      <th>rated</th>\n",
       "      <th>created_at</th>\n",
       "      <th>last_move_at</th>\n",
       "      <th>turns</th>\n",
       "      <th>victory_status</th>\n",
       "      <th>winner</th>\n",
       "      <th>increment_code</th>\n",
       "      <th>white_id</th>\n",
       "      <th>white_rating</th>\n",
       "      <th>black_id</th>\n",
       "      <th>black_rating</th>\n",
       "      <th>moves</th>\n",
       "      <th>opening_eco</th>\n",
       "      <th>opening_name</th>\n",
       "      <th>opening_ply</th>\n",
       "    </tr>\n",
       "  </thead>\n",
       "  <tbody>\n",
       "    <tr>\n",
       "      <th>0</th>\n",
       "      <td>TZJHLljE</td>\n",
       "      <td>False</td>\n",
       "      <td>1.504210e+12</td>\n",
       "      <td>1.504210e+12</td>\n",
       "      <td>13</td>\n",
       "      <td>outoftime</td>\n",
       "      <td>white</td>\n",
       "      <td>15+2</td>\n",
       "      <td>bourgris</td>\n",
       "      <td>1500</td>\n",
       "      <td>a-00</td>\n",
       "      <td>1191</td>\n",
       "      <td>d4 d5 c4 c6 cxd5 e6 dxe6 fxe6 Nf3 Bb4+ Nc3 Ba5...</td>\n",
       "      <td>D10</td>\n",
       "      <td>Slav Defense: Exchange Variation</td>\n",
       "      <td>5</td>\n",
       "    </tr>\n",
       "    <tr>\n",
       "      <th>1</th>\n",
       "      <td>l1NXvwaE</td>\n",
       "      <td>True</td>\n",
       "      <td>1.504130e+12</td>\n",
       "      <td>1.504130e+12</td>\n",
       "      <td>16</td>\n",
       "      <td>resign</td>\n",
       "      <td>black</td>\n",
       "      <td>5+10</td>\n",
       "      <td>a-00</td>\n",
       "      <td>1322</td>\n",
       "      <td>skinnerua</td>\n",
       "      <td>1261</td>\n",
       "      <td>d4 Nc6 e4 e5 f4 f6 dxe5 fxe5 fxe5 Nxe5 Qd4 Nc6...</td>\n",
       "      <td>B00</td>\n",
       "      <td>Nimzowitsch Defense: Kennedy Variation</td>\n",
       "      <td>4</td>\n",
       "    </tr>\n",
       "    <tr>\n",
       "      <th>2</th>\n",
       "      <td>mIICvQHh</td>\n",
       "      <td>True</td>\n",
       "      <td>1.504130e+12</td>\n",
       "      <td>1.504130e+12</td>\n",
       "      <td>61</td>\n",
       "      <td>mate</td>\n",
       "      <td>white</td>\n",
       "      <td>5+10</td>\n",
       "      <td>ischia</td>\n",
       "      <td>1496</td>\n",
       "      <td>a-00</td>\n",
       "      <td>1500</td>\n",
       "      <td>e4 e5 d3 d6 Be3 c6 Be2 b5 Nd2 a5 a4 c5 axb5 Nc...</td>\n",
       "      <td>C20</td>\n",
       "      <td>King's Pawn Game: Leonardis Variation</td>\n",
       "      <td>3</td>\n",
       "    </tr>\n",
       "    <tr>\n",
       "      <th>3</th>\n",
       "      <td>kWKvrqYL</td>\n",
       "      <td>True</td>\n",
       "      <td>1.504110e+12</td>\n",
       "      <td>1.504110e+12</td>\n",
       "      <td>61</td>\n",
       "      <td>mate</td>\n",
       "      <td>white</td>\n",
       "      <td>20+0</td>\n",
       "      <td>daniamurashov</td>\n",
       "      <td>1439</td>\n",
       "      <td>adivanov2009</td>\n",
       "      <td>1454</td>\n",
       "      <td>d4 d5 Nf3 Bf5 Nc3 Nf6 Bf4 Ng4 e3 Nc6 Be2 Qd7 O...</td>\n",
       "      <td>D02</td>\n",
       "      <td>Queen's Pawn Game: Zukertort Variation</td>\n",
       "      <td>3</td>\n",
       "    </tr>\n",
       "    <tr>\n",
       "      <th>4</th>\n",
       "      <td>9tXo1AUZ</td>\n",
       "      <td>True</td>\n",
       "      <td>1.504030e+12</td>\n",
       "      <td>1.504030e+12</td>\n",
       "      <td>95</td>\n",
       "      <td>mate</td>\n",
       "      <td>white</td>\n",
       "      <td>30+3</td>\n",
       "      <td>nik221107</td>\n",
       "      <td>1523</td>\n",
       "      <td>adivanov2009</td>\n",
       "      <td>1469</td>\n",
       "      <td>e4 e5 Nf3 d6 d4 Nc6 d5 Nb4 a3 Na6 Nc3 Be7 b4 N...</td>\n",
       "      <td>C41</td>\n",
       "      <td>Philidor Defense</td>\n",
       "      <td>5</td>\n",
       "    </tr>\n",
       "    <tr>\n",
       "      <th>...</th>\n",
       "      <td>...</td>\n",
       "      <td>...</td>\n",
       "      <td>...</td>\n",
       "      <td>...</td>\n",
       "      <td>...</td>\n",
       "      <td>...</td>\n",
       "      <td>...</td>\n",
       "      <td>...</td>\n",
       "      <td>...</td>\n",
       "      <td>...</td>\n",
       "      <td>...</td>\n",
       "      <td>...</td>\n",
       "      <td>...</td>\n",
       "      <td>...</td>\n",
       "      <td>...</td>\n",
       "      <td>...</td>\n",
       "    </tr>\n",
       "    <tr>\n",
       "      <th>20053</th>\n",
       "      <td>EfqH7VVH</td>\n",
       "      <td>True</td>\n",
       "      <td>1.499791e+12</td>\n",
       "      <td>1.499791e+12</td>\n",
       "      <td>24</td>\n",
       "      <td>resign</td>\n",
       "      <td>white</td>\n",
       "      <td>10+10</td>\n",
       "      <td>belcolt</td>\n",
       "      <td>1691</td>\n",
       "      <td>jamboger</td>\n",
       "      <td>1220</td>\n",
       "      <td>d4 f5 e3 e6 Nf3 Nf6 Nc3 b6 Be2 Bb7 O-O Be7 Ne5...</td>\n",
       "      <td>A80</td>\n",
       "      <td>Dutch Defense</td>\n",
       "      <td>2</td>\n",
       "    </tr>\n",
       "    <tr>\n",
       "      <th>20054</th>\n",
       "      <td>WSJDhbPl</td>\n",
       "      <td>True</td>\n",
       "      <td>1.499698e+12</td>\n",
       "      <td>1.499699e+12</td>\n",
       "      <td>82</td>\n",
       "      <td>mate</td>\n",
       "      <td>black</td>\n",
       "      <td>10+0</td>\n",
       "      <td>jamboger</td>\n",
       "      <td>1233</td>\n",
       "      <td>farrukhasomiddinov</td>\n",
       "      <td>1196</td>\n",
       "      <td>d4 d6 Bf4 e5 Bg3 Nf6 e3 exd4 exd4 d5 c3 Bd6 Bd...</td>\n",
       "      <td>A41</td>\n",
       "      <td>Queen's Pawn</td>\n",
       "      <td>2</td>\n",
       "    </tr>\n",
       "    <tr>\n",
       "      <th>20055</th>\n",
       "      <td>yrAas0Kj</td>\n",
       "      <td>True</td>\n",
       "      <td>1.499698e+12</td>\n",
       "      <td>1.499698e+12</td>\n",
       "      <td>35</td>\n",
       "      <td>mate</td>\n",
       "      <td>white</td>\n",
       "      <td>10+0</td>\n",
       "      <td>jamboger</td>\n",
       "      <td>1219</td>\n",
       "      <td>schaaksmurf3</td>\n",
       "      <td>1286</td>\n",
       "      <td>d4 d5 Bf4 Nc6 e3 Nf6 c3 e6 Nf3 Be7 Bd3 O-O Nbd...</td>\n",
       "      <td>D00</td>\n",
       "      <td>Queen's Pawn Game: Mason Attack</td>\n",
       "      <td>3</td>\n",
       "    </tr>\n",
       "    <tr>\n",
       "      <th>20056</th>\n",
       "      <td>b0v4tRyF</td>\n",
       "      <td>True</td>\n",
       "      <td>1.499696e+12</td>\n",
       "      <td>1.499697e+12</td>\n",
       "      <td>109</td>\n",
       "      <td>resign</td>\n",
       "      <td>white</td>\n",
       "      <td>10+0</td>\n",
       "      <td>marcodisogno</td>\n",
       "      <td>1360</td>\n",
       "      <td>jamboger</td>\n",
       "      <td>1227</td>\n",
       "      <td>e4 d6 d4 Nf6 e5 dxe5 dxe5 Qxd1+ Kxd1 Nd5 c4 Nb...</td>\n",
       "      <td>B07</td>\n",
       "      <td>Pirc Defense</td>\n",
       "      <td>4</td>\n",
       "    </tr>\n",
       "    <tr>\n",
       "      <th>20057</th>\n",
       "      <td>N8G2JHGG</td>\n",
       "      <td>True</td>\n",
       "      <td>1.499643e+12</td>\n",
       "      <td>1.499644e+12</td>\n",
       "      <td>78</td>\n",
       "      <td>mate</td>\n",
       "      <td>black</td>\n",
       "      <td>10+0</td>\n",
       "      <td>jamboger</td>\n",
       "      <td>1235</td>\n",
       "      <td>ffbob</td>\n",
       "      <td>1339</td>\n",
       "      <td>d4 d5 Bf4 Na6 e3 e6 c3 Nf6 Nf3 Bd7 Nbd2 b5 Bd3...</td>\n",
       "      <td>D00</td>\n",
       "      <td>Queen's Pawn Game: Mason Attack</td>\n",
       "      <td>3</td>\n",
       "    </tr>\n",
       "  </tbody>\n",
       "</table>\n",
       "<p>20058 rows × 16 columns</p>\n",
       "</div>"
      ]
     },
     "execution_count": 141,
     "metadata": {},
     "output_type": "execute_result"
    }
   ],
   "execution_count": 141
  },
  {
   "metadata": {
    "ExecuteTime": {
     "end_time": "2024-11-13T10:31:24.973317Z",
     "start_time": "2024-11-13T10:31:24.964907Z"
    }
   },
   "cell_type": "code",
   "source": [
    "print(\"(rows, columns) : \")\n",
    "print(df.shape)"
   ],
   "id": "ed48fd48b6abdeda",
   "outputs": [
    {
     "name": "stdout",
     "output_type": "stream",
     "text": [
      "(rows, columns) : \n",
      "(20058, 16)\n"
     ]
    }
   ],
   "execution_count": 142
  },
  {
   "metadata": {},
   "cell_type": "markdown",
   "source": [
    " - `df.info()` allow us to see the missing values in the dataframe.\n",
    "Here we can see that we miss values in `Teacher_Quality`, `Parental_Education_Level` and `Distance_from_Home`"
   ],
   "id": "4484227e7bdee6c0"
  },
  {
   "metadata": {
    "ExecuteTime": {
     "end_time": "2024-11-13T10:31:25.211294Z",
     "start_time": "2024-11-13T10:31:25.181842Z"
    }
   },
   "cell_type": "code",
   "source": "print(df.info())",
   "id": "c318b981c9944ed2",
   "outputs": [
    {
     "name": "stdout",
     "output_type": "stream",
     "text": [
      "<class 'pandas.core.frame.DataFrame'>\n",
      "RangeIndex: 20058 entries, 0 to 20057\n",
      "Data columns (total 16 columns):\n",
      " #   Column          Non-Null Count  Dtype  \n",
      "---  ------          --------------  -----  \n",
      " 0   id              20058 non-null  object \n",
      " 1   rated           20058 non-null  bool   \n",
      " 2   created_at      20058 non-null  float64\n",
      " 3   last_move_at    20058 non-null  float64\n",
      " 4   turns           20058 non-null  int64  \n",
      " 5   victory_status  20058 non-null  object \n",
      " 6   winner          20058 non-null  object \n",
      " 7   increment_code  20058 non-null  object \n",
      " 8   white_id        20058 non-null  object \n",
      " 9   white_rating    20058 non-null  int64  \n",
      " 10  black_id        20058 non-null  object \n",
      " 11  black_rating    20058 non-null  int64  \n",
      " 12  moves           20058 non-null  object \n",
      " 13  opening_eco     20058 non-null  object \n",
      " 14  opening_name    20058 non-null  object \n",
      " 15  opening_ply     20058 non-null  int64  \n",
      "dtypes: bool(1), float64(2), int64(4), object(9)\n",
      "memory usage: 2.3+ MB\n",
      "None\n"
     ]
    }
   ],
   "execution_count": 143
  },
  {
   "metadata": {},
   "cell_type": "markdown",
   "source": [
    "# Features\n",
    " - Feature (Variable, Attribute): A column in a dataset, representing a measurable property or characteristic of the data\n",
    " - `df.columns` allows us to get the dataset features list "
   ],
   "id": "998f82780f4511b3"
  },
  {
   "metadata": {
    "ExecuteTime": {
     "end_time": "2024-11-13T10:31:25.408780Z",
     "start_time": "2024-11-13T10:31:25.395364Z"
    }
   },
   "cell_type": "code",
   "source": [
    "features = df.columns\n",
    "if 'index' in features:\n",
    "    features.remove('index')\n",
    "print(\"Features list :\") \n",
    "for f in features:\n",
    "    print(\" - \", f)"
   ],
   "id": "a70c99657a3dec9e",
   "outputs": [
    {
     "name": "stdout",
     "output_type": "stream",
     "text": [
      "Features list :\n",
      " -  id\n",
      " -  rated\n",
      " -  created_at\n",
      " -  last_move_at\n",
      " -  turns\n",
      " -  victory_status\n",
      " -  winner\n",
      " -  increment_code\n",
      " -  white_id\n",
      " -  white_rating\n",
      " -  black_id\n",
      " -  black_rating\n",
      " -  moves\n",
      " -  opening_eco\n",
      " -  opening_name\n",
      " -  opening_ply\n"
     ]
    }
   ],
   "execution_count": 144
  },
  {
   "metadata": {},
   "cell_type": "markdown",
   "source": [
    "## Correlation Matrix\n",
    "\n",
    "First, to understand the relationship between the features, we can use the correlation matrix.\n",
    "for the matrix to be relevant, we need to have only numerical features.\n",
    "We can change the type of the features that we are going to store in a new dataframe."
   ],
   "id": "df775813a476ee1"
  },
  {
   "metadata": {
    "ExecuteTime": {
     "end_time": "2024-11-13T10:31:25.473692Z",
     "start_time": "2024-11-13T10:31:25.455620Z"
    }
   },
   "cell_type": "code",
   "source": [
    "def plot_correlation_matrix(df):\n",
    "    numeric_df = df.select_dtypes(include=['float64', 'int64'])\n",
    "    # Calculate the correlation matrix\n",
    "    correlation_matrix = numeric_df.corr()\n",
    "\n",
    "    # Create a heatmap\n",
    "    plt.figure(figsize=(10, 8))\n",
    "    sns.heatmap(correlation_matrix, annot=True, cmap='coolwarm', fmt='.2f')\n",
    "    plt.title(\"Correlation Matrix\")\n",
    "    plt.show()\n",
    "\n",
    "# We create a new df to store useful numerical features\n",
    "# We first create a copy of the original df and we will analyse the features one by one\n",
    "numeric_df = df"
   ],
   "id": "ff04509cb24e6c52",
   "outputs": [],
   "execution_count": 145
  },
  {
   "metadata": {},
   "cell_type": "markdown",
   "source": "Let us create some function to plot some interesting information about the features.",
   "id": "880097324d411535"
  },
  {
   "metadata": {
    "ExecuteTime": {
     "end_time": "2024-11-13T10:31:25.552752Z",
     "start_time": "2024-11-13T10:31:25.546100Z"
    }
   },
   "cell_type": "code",
   "source": [
    "def plot_distribution(df, feature,kde = False):\n",
    "    plt.figure(figsize=(10, 6))\n",
    "    if kde :\n",
    "        sns.kdeplot(data =df , x = df[feature],shade=True, kde=kde)\n",
    "    else :\n",
    "        sns.countplot(data=df, x=feature, hue=feature, palette='coolwarm')\n",
    "    plt.title(f\"Distribution of {feature} vs Unrated Games\")\n",
    "    plt.xlabel(feature)\n",
    "    plt.ylabel('Count')\n",
    "    plt.title(f\"{feature} distribution\")\n",
    "    plt.show()"
   ],
   "id": "798f185daa4fbd8a",
   "outputs": [],
   "execution_count": 146
  },
  {
   "metadata": {},
   "cell_type": "markdown",
   "source": [
    "Let us analyze the features 1 by 1 :\n",
    "\n",
    "## 1. id\n",
    "\n",
    "  - *Data Type* : string\n",
    "  - *Description* : The id of the game\n",
    "    \n",
    "Not interesting for the analysis. It is just an identifier."
   ],
   "id": "d2e280cbfa3a0c5d"
  },
  {
   "metadata": {
    "ExecuteTime": {
     "end_time": "2024-11-13T10:31:25.672645Z",
     "start_time": "2024-11-13T10:31:25.641551Z"
    }
   },
   "cell_type": "code",
   "source": [
    "feature = features[0]\n",
    "df[feature].describe()"
   ],
   "id": "6999f1fa532b73b8",
   "outputs": [
    {
     "data": {
      "text/plain": [
       "count        20058\n",
       "unique       19113\n",
       "top       XRuQPSzH\n",
       "freq             5\n",
       "Name: id, dtype: object"
      ]
     },
     "execution_count": 147,
     "metadata": {},
     "output_type": "execute_result"
    }
   ],
   "execution_count": 147
  },
  {
   "metadata": {
    "ExecuteTime": {
     "end_time": "2024-11-13T10:31:25.754880Z",
     "start_time": "2024-11-13T10:31:25.746298Z"
    }
   },
   "cell_type": "code",
   "source": "numeric_df = numeric_df.drop(columns=[feature])",
   "id": "7e75d770f544ec95",
   "outputs": [],
   "execution_count": 148
  },
  {
   "metadata": {},
   "cell_type": "markdown",
   "source": [
    "## 2. rated\n",
    "- *Data Type* : binary\n",
    "- *Description* : Whether the game is rated or not\n",
    "\n",
    "Might be interesting. To train our AI model we might consider only the rated games to avoid the bias of unrated games."
   ],
   "id": "ce6b79c95fbe77ed"
  },
  {
   "metadata": {
    "ExecuteTime": {
     "end_time": "2024-11-13T10:31:25.829992Z",
     "start_time": "2024-11-13T10:31:25.819739Z"
    }
   },
   "cell_type": "code",
   "source": [
    "feature = features[1]\n",
    "df[feature].describe()"
   ],
   "id": "82230b3456a3cd55",
   "outputs": [
    {
     "data": {
      "text/plain": [
       "count     20058\n",
       "unique        2\n",
       "top        True\n",
       "freq      16155\n",
       "Name: rated, dtype: object"
      ]
     },
     "execution_count": 149,
     "metadata": {},
     "output_type": "execute_result"
    }
   ],
   "execution_count": 149
  },
  {
   "metadata": {},
   "cell_type": "markdown",
   "source": "We can see that the feature is binary. Let us see the distribution of the values.",
   "id": "7618b70217effdc3"
  },
  {
   "metadata": {
    "ExecuteTime": {
     "end_time": "2024-11-13T10:31:25.998962Z",
     "start_time": "2024-11-13T10:31:25.990011Z"
    }
   },
   "cell_type": "code",
   "source": "print(df[feature].value_counts())\n",
   "id": "3703ad347d57aec1",
   "outputs": [
    {
     "name": "stdout",
     "output_type": "stream",
     "text": [
      "rated\n",
      "True     16155\n",
      "False     3903\n",
      "Name: count, dtype: int64\n"
     ]
    }
   ],
   "execution_count": 150
  },
  {
   "metadata": {},
   "cell_type": "markdown",
   "source": "",
   "id": "d589ce57095bdb76"
  },
  {
   "metadata": {
    "ExecuteTime": {
     "end_time": "2024-11-13T10:31:26.516055Z",
     "start_time": "2024-11-13T10:31:26.218973Z"
    }
   },
   "cell_type": "code",
   "source": "plot_distribution(df, feature)",
   "id": "bf69961fd0669edb",
   "outputs": [
    {
     "data": {
      "text/plain": [
       "<Figure size 1000x600 with 1 Axes>"
      ],
      "image/png": "[encoded data removed]"
     },
     "metadata": {},
     "output_type": "display_data"
    }
   ],
   "execution_count": 151
  },
  {
   "metadata": {
    "ExecuteTime": {
     "end_time": "2024-11-13T10:31:26.544121Z",
     "start_time": "2024-11-13T10:31:26.528617Z"
    }
   },
   "cell_type": "code",
   "source": [
    "numeric_df[feature] = numeric_df[feature].astype(int)\n",
    "print(df[feature])\n",
    "print(numeric_df[feature])"
   ],
   "id": "100e5bb59bea2cd4",
   "outputs": [
    {
     "name": "stdout",
     "output_type": "stream",
     "text": [
      "0        False\n",
      "1         True\n",
      "2         True\n",
      "3         True\n",
      "4         True\n",
      "         ...  \n",
      "20053     True\n",
      "20054     True\n",
      "20055     True\n",
      "20056     True\n",
      "20057     True\n",
      "Name: rated, Length: 20058, dtype: bool\n",
      "0        0\n",
      "1        1\n",
      "2        1\n",
      "3        1\n",
      "4        1\n",
      "        ..\n",
      "20053    1\n",
      "20054    1\n",
      "20055    1\n",
      "20056    1\n",
      "20057    1\n",
      "Name: rated, Length: 20058, dtype: int32\n"
     ]
    }
   ],
   "execution_count": 152
  },
  {
   "metadata": {},
   "cell_type": "markdown",
   "source": [
    "## 3. Created_at and last_move_at\n",
    "- *Data Type* : datetime\n",
    "- *Description* : The date of the creation of the game and the last move\n",
    "- *Note* : We could extract the time difference between the two dates to get the duration of the game however we think that the values provided in the dataset are rounded wich makes the features not relevant."
   ],
   "id": "fb2f71bd29a0feac"
  },
  {
   "metadata": {
    "ExecuteTime": {
     "end_time": "2024-11-13T10:31:26.825654Z",
     "start_time": "2024-11-13T10:31:26.685228Z"
    }
   },
   "cell_type": "code",
   "source": [
    "time_differece = df['last_move_at']- df[\"created_at\"]\n",
    "print(time_differece.describe())\n",
    "\n",
    "# Convert 'created_at' and 'last_move_at' to datetime\n",
    "df['created_at'] = pd.to_datetime(df['created_at'], unit='ns')\n",
    "df['last_move_at'] = pd.to_datetime(df['last_move_at'], unit='ns')\n",
    "\n",
    "# Verify the changes\n",
    "print(df['created_at'].head())\n",
    "print(df['last_move_at'].head())\n",
    "print(df['created_at'].dtype)\n",
    "print(df['last_move_at'].dtype)\n",
    "\n"
   ],
   "id": "b6af0d2756b0fd6b",
   "outputs": [
    {
     "name": "stdout",
     "output_type": "stream",
     "text": [
      "count    2.005800e+04\n",
      "mean     8.697070e+05\n",
      "std      4.814222e+06\n",
      "min      0.000000e+00\n",
      "25%      0.000000e+00\n",
      "50%      2.406120e+05\n",
      "75%      7.931712e+05\n",
      "max      6.058447e+08\n",
      "dtype: float64\n",
      "0   1970-01-01 00:25:04.210\n",
      "1   1970-01-01 00:25:04.130\n",
      "2   1970-01-01 00:25:04.130\n",
      "3   1970-01-01 00:25:04.110\n",
      "4   1970-01-01 00:25:04.030\n",
      "Name: created_at, dtype: datetime64[ns]\n",
      "0   1970-01-01 00:25:04.210\n",
      "1   1970-01-01 00:25:04.130\n",
      "2   1970-01-01 00:25:04.130\n",
      "3   1970-01-01 00:25:04.110\n",
      "4   1970-01-01 00:25:04.030\n",
      "Name: last_move_at, dtype: datetime64[ns]\n",
      "datetime64[ns]\n",
      "datetime64[ns]\n"
     ]
    }
   ],
   "execution_count": 153
  },
  {
   "metadata": {
    "ExecuteTime": {
     "end_time": "2024-11-13T10:31:26.883158Z",
     "start_time": "2024-11-13T10:31:26.850833Z"
    }
   },
   "cell_type": "code",
   "source": [
    "feature = features[2]\n",
    "print(df[feature].describe()) \n",
    "feature = features[3]\n",
    "print(df[feature].describe())\n",
    "\n",
    "print()\n",
    "\n",
    "if df[features[2]].equals(df[features[3]]):\n",
    "    print(\"The two features are the same\")\n",
    "else:\n",
    "    print(\"The two features are different\")\n",
    "    \n",
    "print()\n",
    "time_different = df[features[3]] - df[features[2]]\n",
    "time_different.describe()"
   ],
   "id": "46ab778308dee216",
   "outputs": [
    {
     "name": "stdout",
     "output_type": "stream",
     "text": [
      "count                            20058\n",
      "mean     1970-01-01 00:24:43.616852629\n",
      "min      1970-01-01 00:22:56.771633173\n",
      "25%         1970-01-01 00:24:37.547500\n",
      "50%         1970-01-01 00:24:56.010000\n",
      "75%         1970-01-01 00:25:03.170000\n",
      "max      1970-01-01 00:25:04.493143790\n",
      "Name: created_at, dtype: object\n",
      "count                            20058\n",
      "mean     1970-01-01 00:24:43.617722336\n",
      "min      1970-01-01 00:22:56.771863841\n",
      "25%         1970-01-01 00:24:37.547500\n",
      "50%         1970-01-01 00:24:56.010000\n",
      "75%         1970-01-01 00:25:03.170000\n",
      "max      1970-01-01 00:25:04.493827262\n",
      "Name: last_move_at, dtype: object\n",
      "\n",
      "The two features are different\n",
      "\n"
     ]
    },
    {
     "data": {
      "text/plain": [
       "count                        20058\n",
       "mean     0 days 00:00:00.000869707\n",
       "std      0 days 00:00:00.004814222\n",
       "min                0 days 00:00:00\n",
       "25%                0 days 00:00:00\n",
       "50%      0 days 00:00:00.000240612\n",
       "75%      0 days 00:00:00.000793171\n",
       "max      0 days 00:00:00.605844701\n",
       "dtype: object"
      ]
     },
     "execution_count": 154,
     "metadata": {},
     "output_type": "execute_result"
    }
   ],
   "execution_count": 154
  },
  {
   "metadata": {},
   "cell_type": "markdown",
   "source": "",
   "id": "f308c5865204c7d3"
  }
 ],
 "metadata": {
  "kernelspec": {
   "display_name": "Python 3",
   "language": "python",
   "name": "python3"
  },
  "language_info": {
   "codemirror_mode": {
    "name": "ipython",
    "version": 2
   },
   "file_extension": ".py",
   "mimetype": "text/x-python",
   "name": "python",
   "nbconvert_exporter": "python",
   "pygments_lexer": "ipython2",
   "version": "2.7.6"
  }
 },
 "nbformat": 4,
 "nbformat_minor": 5
}
