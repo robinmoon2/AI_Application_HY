{
 "cells": [
  {
   "cell_type": "code",
   "execution_count": 2,
   "metadata": {},
   "outputs": [
    {
     "name": "stdout",
     "output_type": "stream",
     "text": [
      "<class 'pandas.core.frame.DataFrame'>\n",
      "RangeIndex: 6607 entries, 0 to 6606\n",
      "Data columns (total 20 columns):\n",
      " #   Column                      Non-Null Count  Dtype \n",
      "---  ------                      --------------  ----- \n",
      " 0   Hours_Studied               6607 non-null   int64 \n",
      " 1   Attendance                  6607 non-null   int64 \n",
      " 2   Parental_Involvement        6607 non-null   object\n",
      " 3   Access_to_Resources         6607 non-null   object\n",
      " 4   Extracurricular_Activities  6607 non-null   object\n",
      " 5   Sleep_Hours                 6607 non-null   int64 \n",
      " 6   Previous_Scores             6607 non-null   int64 \n",
      " 7   Motivation_Level            6607 non-null   object\n",
      " 8   Internet_Access             6607 non-null   object\n",
      " 9   Tutoring_Sessions           6607 non-null   int64 \n",
      " 10  Family_Income               6607 non-null   object\n",
      " 11  Teacher_Quality             6529 non-null   object\n",
      " 12  School_Type                 6607 non-null   object\n",
      " 13  Peer_Influence              6607 non-null   object\n",
      " 14  Physical_Activity           6607 non-null   int64 \n",
      " 15  Learning_Disabilities       6607 non-null   object\n",
      " 16  Parental_Education_Level    6517 non-null   object\n",
      " 17  Distance_from_Home          6540 non-null   object\n",
      " 18  Gender                      6607 non-null   object\n",
      " 19  Exam_Score                  6607 non-null   int64 \n",
      "dtypes: int64(7), object(13)\n",
      "memory usage: 1.0+ MB\n"
     ]
    }
   ],
   "source": [
    "import numpy as np\n",
    "import pandas\n",
    "import matplotlib.pyplot as plt\n",
    "import seaborn as sns\n",
    "from matplotlib.ticker import AutoMinorLocator\n",
    "import matplotlib.ticker as ticker\n",
    "\n",
    "student = pandas.read_csv('StudentPerformanceFactors.csv', sep = \",\")\n",
    "student.info()"
   ]
  },
  {
   "cell_type": "markdown",
   "metadata": {},
   "source": [
    "To optimize our analysis we will try to eliminate all duplicate. Luckily no duplicate was detected."
   ]
  },
  {
   "cell_type": "code",
   "execution_count": 4,
   "metadata": {},
   "outputs": [],
   "source": [
    "previous_length = student.shape[0]\n",
    "student.drop_duplicates(inplace = True)\n",
    "if(previous_length > student.shape[0]):\n",
    "    print(f\"We erased {previous_length - student.shape[0]} duplicates.\")"
   ]
  },
  {
   "cell_type": "markdown",
   "metadata": {},
   "source": [
    "Dealing with variables that can have values of two or more types is not ideal. As we can see below, three of our variables have two types."
   ]
  },
  {
   "cell_type": "code",
   "execution_count": 8,
   "metadata": {},
   "outputs": [
    {
     "name": "stdout",
     "output_type": "stream",
     "text": [
      "Teacher_Quality [<class 'str'> <class 'float'>]\n",
      "Parental_Education_Level [<class 'str'> <class 'float'>]\n",
      "Distance_from_Home [<class 'str'> <class 'float'>]\n"
     ]
    }
   ],
   "source": [
    "def check_mutliple_type(df: pandas.DataFrame):\n",
    "    column_to_change = []\n",
    "    types_per_column = []\n",
    "    for col in student.columns:\n",
    "        unique_types = df[col].apply(type).unique()\n",
    "        if len(unique_types) > 1:\n",
    "            column_to_change.append(col)\n",
    "            types_per_column.append(unique_types)\n",
    "            print(col, unique_types)\n",
    "    return column_to_change\n",
    "column_to_change = check_mutliple_type(student)"
   ]
  },
  {
   "cell_type": "markdown",
   "metadata": {},
   "source": [
    "These variables are the same 3 that does not have 6607 non-null values. I will assume that all float values are only null values. I could just change the type of the variables to string and continue the analysis but there will still be some missing values. To continue the analysis I have to replace those missing values. I am not sure I will find the accurate values that can replace the missing values. So I will remove the lines with missing values but I will keep them in a separate file in order to test the AI we will build on these missing data."
   ]
  },
  {
   "cell_type": "code",
   "execution_count": 11,
   "metadata": {},
   "outputs": [
    {
     "data": {
      "text/plain": [
       "(235, 20)"
      ]
     },
     "execution_count": 11,
     "metadata": {},
     "output_type": "execute_result"
    }
   ],
   "source": [
    "#extraction of the values\n",
    "lines_to_extract = pandas.DataFrame()\n",
    "for col in column_to_change:\n",
    "    lines_to_extract = pandas.concat([lines_to_extract, student.loc[student[col].isnull()]])\n",
    "lines_to_extract.drop_duplicates()\n",
    "lines_to_extract.to_csv('StudentPerformanceFactore_NAN_values.csv')\n",
    "lines_to_extract.shape\n"
   ]
  },
  {
   "cell_type": "code",
   "execution_count": 13,
   "metadata": {},
   "outputs": [
    {
     "data": {
      "text/plain": [
       "(6378, 20)"
      ]
     },
     "execution_count": 13,
     "metadata": {},
     "output_type": "execute_result"
    }
   ],
   "source": [
    "#remove extracted data\n",
    "student = student.merge(lines_to_extract, how = \"outer\", \n",
    "                        indicator=True).query('_merge==\"left_only\"').drop(columns='_merge')\n",
    "student.to_csv(\"StudentPerformanceFactors_Cleaned.csv\")\n",
    "student.shape"
   ]
  },
  {
   "cell_type": "markdown",
   "metadata": {},
   "source": [
    "Now we can see that by extracting the row with missing values, all columns have a unique type. Therefore we can continue our analysis correctly."
   ]
  },
  {
   "cell_type": "code",
   "execution_count": 16,
   "metadata": {},
   "outputs": [],
   "source": [
    "column_to_change = check_mutliple_type(student)"
   ]
  },
  {
   "cell_type": "markdown",
   "metadata": {},
   "source": [
    "The next thing I will do to clean the dataset is trying to find some extraordinary values that might distorting my analysis. For now I only check the quantitative variables. I only found 1 extraordinary value, that is not so extraordinary. I will assume that having 101 at an exam is possible if the teacher give bonus points. So I will keep that line in the dataset."
   ]
  },
  {
   "cell_type": "code",
   "execution_count": 19,
   "metadata": {},
   "outputs": [
    {
     "name": "stdout",
     "output_type": "stream",
     "text": [
      "----------------------------------------\n",
      "----------------------------------------\n",
      "----------------------------------------\n",
      "----------------------------------------\n",
      "----------------------------------------\n",
      "----------------------------------------\n"
     ]
    },
    {
     "data": {
      "text/html": [
       "<div>\n",
       "<style scoped>\n",
       "    .dataframe tbody tr th:only-of-type {\n",
       "        vertical-align: middle;\n",
       "    }\n",
       "\n",
       "    .dataframe tbody tr th {\n",
       "        vertical-align: top;\n",
       "    }\n",
       "\n",
       "    .dataframe thead th {\n",
       "        text-align: right;\n",
       "    }\n",
       "</style>\n",
       "<table border=\"1\" class=\"dataframe\">\n",
       "  <thead>\n",
       "    <tr style=\"text-align: right;\">\n",
       "      <th></th>\n",
       "      <th>Hours_Studied</th>\n",
       "      <th>Attendance</th>\n",
       "      <th>Parental_Involvement</th>\n",
       "      <th>Access_to_Resources</th>\n",
       "      <th>Extracurricular_Activities</th>\n",
       "      <th>Sleep_Hours</th>\n",
       "      <th>Previous_Scores</th>\n",
       "      <th>Motivation_Level</th>\n",
       "      <th>Internet_Access</th>\n",
       "      <th>Tutoring_Sessions</th>\n",
       "      <th>Family_Income</th>\n",
       "      <th>Teacher_Quality</th>\n",
       "      <th>School_Type</th>\n",
       "      <th>Peer_Influence</th>\n",
       "      <th>Physical_Activity</th>\n",
       "      <th>Learning_Disabilities</th>\n",
       "      <th>Parental_Education_Level</th>\n",
       "      <th>Distance_from_Home</th>\n",
       "      <th>Gender</th>\n",
       "      <th>Exam_Score</th>\n",
       "    </tr>\n",
       "  </thead>\n",
       "  <tbody>\n",
       "    <tr>\n",
       "      <th>5920</th>\n",
       "      <td>27</td>\n",
       "      <td>98</td>\n",
       "      <td>Low</td>\n",
       "      <td>Medium</td>\n",
       "      <td>Yes</td>\n",
       "      <td>6</td>\n",
       "      <td>93</td>\n",
       "      <td>Low</td>\n",
       "      <td>No</td>\n",
       "      <td>5</td>\n",
       "      <td>High</td>\n",
       "      <td>High</td>\n",
       "      <td>Public</td>\n",
       "      <td>Positive</td>\n",
       "      <td>3</td>\n",
       "      <td>No</td>\n",
       "      <td>High School</td>\n",
       "      <td>Moderate</td>\n",
       "      <td>Female</td>\n",
       "      <td>101</td>\n",
       "    </tr>\n",
       "  </tbody>\n",
       "</table>\n",
       "</div>"
      ],
      "text/plain": [
       "      Hours_Studied  Attendance Parental_Involvement Access_to_Resources  \\\n",
       "5920             27          98                  Low              Medium   \n",
       "\n",
       "     Extracurricular_Activities  Sleep_Hours  Previous_Scores  \\\n",
       "5920                        Yes            6               93   \n",
       "\n",
       "     Motivation_Level Internet_Access  Tutoring_Sessions Family_Income  \\\n",
       "5920              Low              No                  5          High   \n",
       "\n",
       "     Teacher_Quality School_Type Peer_Influence  Physical_Activity  \\\n",
       "5920            High      Public       Positive                  3   \n",
       "\n",
       "     Learning_Disabilities Parental_Education_Level Distance_from_Home  \\\n",
       "5920                    No              High School           Moderate   \n",
       "\n",
       "      Gender  Exam_Score  \n",
       "5920  Female         101  "
      ]
     },
     "execution_count": 19,
     "metadata": {},
     "output_type": "execute_result"
    }
   ],
   "source": [
    "student.loc[student['Hours_Studied'] > 24*7]\n",
    "print(\"----------------------------------------\")\n",
    "student.loc[student['Attendance'] > 100]\n",
    "print(\"----------------------------------------\")\n",
    "student.loc[student['Sleep_Hours'] > 15]\n",
    "print(\"----------------------------------------\")\n",
    "student.loc[student['Tutoring_Sessions'] > 30]\n",
    "print(\"----------------------------------------\")\n",
    "student.loc[student['Physical_Activity'] > 24*7]\n",
    "print(\"----------------------------------------\")\n",
    "student.loc[student['Previous_Scores'] > 100]\n",
    "print(\"----------------------------------------\")\n",
    "student.loc[student['Exam_Score'] > 100]"
   ]
  },
  {
   "cell_type": "markdown",
   "metadata": {},
   "source": [
    "To finish the dataset cleaning we will check the extraordinary values on qualitative variables based on the information given on the kaggle data card of the dataset. As we can see below, there is no extraordinary values so we are good to go !"
   ]
  },
  {
   "cell_type": "code",
   "execution_count": 22,
   "metadata": {},
   "outputs": [
    {
     "name": "stdout",
     "output_type": "stream",
     "text": [
      "Empty DataFrame\n",
      "Columns: [Hours_Studied, Attendance, Parental_Involvement, Access_to_Resources, Extracurricular_Activities, Sleep_Hours, Previous_Scores, Motivation_Level, Internet_Access, Tutoring_Sessions, Family_Income, Teacher_Quality, School_Type, Peer_Influence, Physical_Activity, Learning_Disabilities, Parental_Education_Level, Distance_from_Home, Gender, Exam_Score]\n",
      "Index: []\n",
      "----------------------------------------\n",
      "Empty DataFrame\n",
      "Columns: [Hours_Studied, Attendance, Parental_Involvement, Access_to_Resources, Extracurricular_Activities, Sleep_Hours, Previous_Scores, Motivation_Level, Internet_Access, Tutoring_Sessions, Family_Income, Teacher_Quality, School_Type, Peer_Influence, Physical_Activity, Learning_Disabilities, Parental_Education_Level, Distance_from_Home, Gender, Exam_Score]\n",
      "Index: []\n",
      "----------------------------------------\n",
      "Empty DataFrame\n",
      "Columns: [Hours_Studied, Attendance, Parental_Involvement, Access_to_Resources, Extracurricular_Activities, Sleep_Hours, Previous_Scores, Motivation_Level, Internet_Access, Tutoring_Sessions, Family_Income, Teacher_Quality, School_Type, Peer_Influence, Physical_Activity, Learning_Disabilities, Parental_Education_Level, Distance_from_Home, Gender, Exam_Score]\n",
      "Index: []\n",
      "----------------------------------------\n",
      "Empty DataFrame\n",
      "Columns: [Hours_Studied, Attendance, Parental_Involvement, Access_to_Resources, Extracurricular_Activities, Sleep_Hours, Previous_Scores, Motivation_Level, Internet_Access, Tutoring_Sessions, Family_Income, Teacher_Quality, School_Type, Peer_Influence, Physical_Activity, Learning_Disabilities, Parental_Education_Level, Distance_from_Home, Gender, Exam_Score]\n",
      "Index: []\n",
      "----------------------------------------\n",
      "Empty DataFrame\n",
      "Columns: [Hours_Studied, Attendance, Parental_Involvement, Access_to_Resources, Extracurricular_Activities, Sleep_Hours, Previous_Scores, Motivation_Level, Internet_Access, Tutoring_Sessions, Family_Income, Teacher_Quality, School_Type, Peer_Influence, Physical_Activity, Learning_Disabilities, Parental_Education_Level, Distance_from_Home, Gender, Exam_Score]\n",
      "Index: []\n",
      "----------------------------------------\n",
      "Empty DataFrame\n",
      "Columns: [Hours_Studied, Attendance, Parental_Involvement, Access_to_Resources, Extracurricular_Activities, Sleep_Hours, Previous_Scores, Motivation_Level, Internet_Access, Tutoring_Sessions, Family_Income, Teacher_Quality, School_Type, Peer_Influence, Physical_Activity, Learning_Disabilities, Parental_Education_Level, Distance_from_Home, Gender, Exam_Score]\n",
      "Index: []\n",
      "----------------------------------------\n",
      "Empty DataFrame\n",
      "Columns: [Hours_Studied, Attendance, Parental_Involvement, Access_to_Resources, Extracurricular_Activities, Sleep_Hours, Previous_Scores, Motivation_Level, Internet_Access, Tutoring_Sessions, Family_Income, Teacher_Quality, School_Type, Peer_Influence, Physical_Activity, Learning_Disabilities, Parental_Education_Level, Distance_from_Home, Gender, Exam_Score]\n",
      "Index: []\n",
      "----------------------------------------\n",
      "Empty DataFrame\n",
      "Columns: [Hours_Studied, Attendance, Parental_Involvement, Access_to_Resources, Extracurricular_Activities, Sleep_Hours, Previous_Scores, Motivation_Level, Internet_Access, Tutoring_Sessions, Family_Income, Teacher_Quality, School_Type, Peer_Influence, Physical_Activity, Learning_Disabilities, Parental_Education_Level, Distance_from_Home, Gender, Exam_Score]\n",
      "Index: []\n",
      "----------------------------------------\n",
      "Empty DataFrame\n",
      "Columns: [Hours_Studied, Attendance, Parental_Involvement, Access_to_Resources, Extracurricular_Activities, Sleep_Hours, Previous_Scores, Motivation_Level, Internet_Access, Tutoring_Sessions, Family_Income, Teacher_Quality, School_Type, Peer_Influence, Physical_Activity, Learning_Disabilities, Parental_Education_Level, Distance_from_Home, Gender, Exam_Score]\n",
      "Index: []\n",
      "----------------------------------------\n",
      "Empty DataFrame\n",
      "Columns: [Hours_Studied, Attendance, Parental_Involvement, Access_to_Resources, Extracurricular_Activities, Sleep_Hours, Previous_Scores, Motivation_Level, Internet_Access, Tutoring_Sessions, Family_Income, Teacher_Quality, School_Type, Peer_Influence, Physical_Activity, Learning_Disabilities, Parental_Education_Level, Distance_from_Home, Gender, Exam_Score]\n",
      "Index: []\n",
      "----------------------------------------\n",
      "Empty DataFrame\n",
      "Columns: [Hours_Studied, Attendance, Parental_Involvement, Access_to_Resources, Extracurricular_Activities, Sleep_Hours, Previous_Scores, Motivation_Level, Internet_Access, Tutoring_Sessions, Family_Income, Teacher_Quality, School_Type, Peer_Influence, Physical_Activity, Learning_Disabilities, Parental_Education_Level, Distance_from_Home, Gender, Exam_Score]\n",
      "Index: []\n",
      "----------------------------------------\n",
      "Empty DataFrame\n",
      "Columns: [Hours_Studied, Attendance, Parental_Involvement, Access_to_Resources, Extracurricular_Activities, Sleep_Hours, Previous_Scores, Motivation_Level, Internet_Access, Tutoring_Sessions, Family_Income, Teacher_Quality, School_Type, Peer_Influence, Physical_Activity, Learning_Disabilities, Parental_Education_Level, Distance_from_Home, Gender, Exam_Score]\n",
      "Index: []\n",
      "----------------------------------------\n",
      "Empty DataFrame\n",
      "Columns: [Hours_Studied, Attendance, Parental_Involvement, Access_to_Resources, Extracurricular_Activities, Sleep_Hours, Previous_Scores, Motivation_Level, Internet_Access, Tutoring_Sessions, Family_Income, Teacher_Quality, School_Type, Peer_Influence, Physical_Activity, Learning_Disabilities, Parental_Education_Level, Distance_from_Home, Gender, Exam_Score]\n",
      "Index: []\n",
      "----------------------------------------\n"
     ]
    }
   ],
   "source": [
    "print(student[~student['Parental_Involvement'].isin(['Low', 'Medium', 'High'])])\n",
    "print(\"----------------------------------------\")\n",
    "print(student[~student['Access_to_Resources'].isin(['Low', 'Medium', 'High'])])\n",
    "print(\"----------------------------------------\")\n",
    "print(student[~student['Extracurricular_Activities'].isin(['Yes', 'No'])])\n",
    "print(\"----------------------------------------\")\n",
    "print(student[~student['Motivation_Level'].isin(['Low', 'Medium', 'High'])])\n",
    "print(\"----------------------------------------\")\n",
    "print(student[~student['Internet_Access'].isin(['Yes', 'No'])])\n",
    "print(\"----------------------------------------\")\n",
    "print(student[~student['Family_Income'].isin(['Low', 'Medium', 'High'])])\n",
    "print(\"----------------------------------------\")\n",
    "print(student[~student['Teacher_Quality'].isin(['Low', 'Medium', 'High'])])\n",
    "print(\"----------------------------------------\")\n",
    "print(student[~student['School_Type'].isin(['Public', 'Private'])])\n",
    "print(\"----------------------------------------\")\n",
    "print(student[~student['Learning_Disabilities'].isin(['Yes', 'No'])])\n",
    "print(\"----------------------------------------\")\n",
    "print(student[~student['Gender'].isin(['Male', 'Female'])])\n",
    "print(\"----------------------------------------\")\n",
    "print(student[~student['Peer_Influence'].isin(['Positive', 'Neutral', 'Negative'])])\n",
    "print(\"----------------------------------------\")\n",
    "print(student[~student['Parental_Education_Level'].isin(['High School', 'College', 'Postgraduate'])])\n",
    "print(\"----------------------------------------\")\n",
    "print(student[~student['Distance_from_Home'].isin(['Near', 'Moderate', 'Far'])])\n",
    "print(\"----------------------------------------\")"
   ]
  },
  {
   "cell_type": "code",
   "execution_count": null,
   "metadata": {},
   "outputs": [],
   "source": []
  }
 ],
 "metadata": {
  "kernelspec": {
   "display_name": "Python 3 (ipykernel)",
   "language": "python",
   "name": "python3"
  },
  "language_info": {
   "codemirror_mode": {
    "name": "ipython",
    "version": 3
   },
   "file_extension": ".py",
   "mimetype": "text/x-python",
   "name": "python",
   "nbconvert_exporter": "python",
   "pygments_lexer": "ipython3",
   "version": "3.12.4"
  }
 },
 "nbformat": 4,
 "nbformat_minor": 4
}
