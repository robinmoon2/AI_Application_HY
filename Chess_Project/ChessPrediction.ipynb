{
 "cells": [
  {
   "cell_type": "markdown",
   "metadata": {},
   "source": [
    "# Chess Opening Prediction\n",
    "In this part I am going to build a Convolutional Neural Network (CNN) in order to predict the opening played by a player."
   ]
  },
  {
   "cell_type": "code",
   "execution_count": null,
   "metadata": {},
   "outputs": [],
   "source": [
    "import pandas as pd\n",
    "import numpy as np\n",
    "import matplotlib.pyplot as plt\n",
    "from collections import Counter\n",
    "from  imblearn.over_sampling import RandomOverSampler\n",
    "import math\n",
    "import torch\n",
    "import random\n",
    "import torch.nn as nn\n",
    "from sklearn.metrics import accuracy_score, plot_confusion_matrix, confusion_matrix, ConfusionMatrixDisplay,f1_score\n"
   ]
  },
  {
   "cell_type": "markdown",
   "metadata": {},
   "source": [
    "## Data Preprocessing\n",
    "\n",
    "I need to re-arrange the data to be sure that it will be understood my CNN. I am only going to use the opening name, the moves of the game and the result.  \n",
    "I will transform the moves to the algebraic notation."
   ]
  },
  {
   "cell_type": "code",
   "execution_count": 167,
   "metadata": {},
   "outputs": [],
   "source": [
    "def number_moves(moves):\n",
    "    final_index = 12\n",
    "    if len(moves)%2 == 0:\n",
    "        for i in range(0, len(moves), 2):\n",
    "            if i >= 12:\n",
    "                break\n",
    "            moves[i] = f\"{int(i/2 +1)}. \" + moves[i]\n",
    "        if i < 12 :\n",
    "            final_index = i    \n",
    "    else:\n",
    "        for i in range(0, len(moves), 2):\n",
    "            if i >= 12:\n",
    "                break\n",
    "            if i == len(moves) - 2 or i == 10:\n",
    "                moves[i] = f\"{int(i/2 +1)}. \" + moves[i]\n",
    "            else :\n",
    "                moves[i] = f\"{int(i/2 +1)}. \" + moves[i]\n",
    "        if i < 12:\n",
    "            final_index = i\n",
    "    return moves[0:final_index]"
   ]
  },
  {
   "cell_type": "code",
   "execution_count": 168,
   "metadata": {},
   "outputs": [],
   "source": [
    "def read_data(data : pd.DataFrame):\n",
    "    \n",
    "    chess_openings = []\n",
    "    chess_moves = []\n",
    "    chess_result =[]\n",
    "    \n",
    "        \n",
    "    num_lines = data.shape[0]\n",
    "\n",
    "    i = 0\n",
    "    \n",
    "    while i < num_lines:\n",
    "        \n",
    "        current_line_opening = data.iloc[i]\n",
    "        \n",
    "        if current_line_opening['winner'] != \"\":\n",
    "            if current_line_opening['winner'] == 'white':\n",
    "                chess_result.append('1-0')\n",
    "            elif current_line_opening['winner'] == 'black':\n",
    "                chess_result.append('0-1')\n",
    "            else:\n",
    "                chess_result.append('1/2-1/2')\n",
    "\n",
    "        if current_line_opening['opening_name'] != \"\" :\n",
    "            chess_openings.append(current_line_opening['opening_name'])\n",
    "        \n",
    "        if current_line_opening['moves'] != \"\":\n",
    "            moves = current_line_opening['moves'].split()\n",
    "            numbered_moves = number_moves(moves)\n",
    "            chess_moves.append(\" \".join(numbered_moves))\n",
    "            \n",
    "        i += 1\n",
    "    \n",
    "    return chess_openings,chess_moves,chess_result"
   ]
  },
  {
   "cell_type": "code",
   "execution_count": 169,
   "metadata": {},
   "outputs": [
    {
     "name": "stdout",
     "output_type": "stream",
     "text": [
      "['1. d4 d5 2. c4 c6 3. cxd5 e6 4. dxe6 fxe6 5. Nf3 Bb4+ 6. Nc3 Ba5', '1. d4 Nc6 2. e4 e5 3. f4 f6 4. dxe5 fxe5 5. fxe5 Nxe5 6. Qd4 Nc6', '1. e4 e5 2. d3 d6 3. Be3 c6 4. Be2 b5 5. Nd2 a5 6. a4 c5', '1. e4 c5 2. Nf3 Qa5', '1. d4 d5 2. e4 dxe4 3. Nc3 Nf6 4. f3 exf3 5. Nxf3 Nc6 6. Bb5 a6', '1. e4 Nc6 2. d4 e5 3. d5 Nce7 4. c3 Ng6', '1. e4 e5 2. Bc4 Nc6 3. Nf3 Nd4 4. d3 Nxf3+ 5. Qxf3 Nf6 6. h3 Bc5', '1. e4 d5 2. exd5 Qxd5 3. Nc3 Qe5+ 4. Be2 Na6 5. d4 Qf5 6. Bxa6 bxa6', '1. e3 e6 2. d4 d6 3. Bd3 c6 4. Nf3 Be7 5. Nc3 Nf6 6. Bd2 Bd7', '1. e4 e6 2. d4 d5 3. e5 c5 4. c3 Nc6 5. Nf3 Qb6 6. Be3 Qxb2']\n"
     ]
    }
   ],
   "source": [
    "data = pd.read_csv(\"CSV_Output/games_cleaned.csv\")\n",
    "openings,move,result = read_data(data)\n",
    "print(move[:10])"
   ]
  },
  {
   "cell_type": "markdown",
   "metadata": {},
   "source": [
    "To help the model I will only keep the general name of the opening and not the variation. It will shorten the possibility for the prediction and it might be easier for the model."
   ]
  },
  {
   "cell_type": "code",
   "execution_count": 170,
   "metadata": {},
   "outputs": [
    {
     "name": "stdout",
     "output_type": "stream",
     "text": [
      "Slav Defense\n"
     ]
    }
   ],
   "source": [
    "openingName = []\n",
    "#For openings\n",
    "for i in range(0,len(openings)):\n",
    "    arr =  openings[i].split(\" \")\n",
    "    p_o = '' \n",
    "    for item in arr:\n",
    "        if(len(p_o)!=0):\n",
    "            p_o +=' '\n",
    "        if(item.find(\":\")!= -1):\n",
    "            p_o +=item[:item.find(\":\")]\n",
    "            break\n",
    "        else:\n",
    "            p_o +=item\n",
    "    openingName.append(p_o)\n",
    "print(openingName[0])"
   ]
  },
  {
   "cell_type": "code",
   "execution_count": 171,
   "metadata": {},
   "outputs": [],
   "source": [
    "for i in range(0,len(openingName)):\n",
    "    s = openingName[i]\n",
    "    if s.find(\" #\") != -1:\n",
    "        openingName[i] = s[0:s.find(\" #\")]\n",
    "    if s.find(\",\") != -1:\n",
    "        openingName[i] = s.split(\",\")[0]"
   ]
  },
  {
   "cell_type": "code",
   "execution_count": 172,
   "metadata": {},
   "outputs": [
    {
     "name": "stdout",
     "output_type": "stream",
     "text": [
      "19113\n",
      "10049\n",
      "10049\n",
      "10049\n"
     ]
    }
   ],
   "source": [
    "classes = ['Sicilian Defense',\"Queen's Pawn Game\",'French Defense',\"King's Pawn Game\",'Scandinavian Defense','Philidor Defense',\"Van't Kruijs Opening\",'English Opening','Italian Game','Ruy Lopez']\n",
    "\n",
    "idxes = [i for i in range(len(openingName)) if  openingName[i] in classes]\n",
    "\n",
    "test_openings = [openingName[i] for i in idxes]\n",
    "test_win_lose = [result[i] for i in idxes]\n",
    "test_data = [move[i] for i in idxes]\n",
    "\n",
    "print(len(move))\n",
    "print(len(test_data))\n",
    "print(len(test_win_lose))\n",
    "print(len(test_openings))"
   ]
  },
  {
   "cell_type": "code",
   "execution_count": null,
   "metadata": {},
   "outputs": [
    {
     "name": "stdout",
     "output_type": "stream",
     "text": [
      "Counter({'Sicilian Defense': 2526, 'French Defense': 1363, \"Queen's Pawn Game\": 1172, 'Italian Game': 926, \"King's Pawn Game\": 871, 'Ruy Lopez': 812, 'English Opening': 699, 'Scandinavian Defense': 688, 'Philidor Defense': 650, \"Van't Kruijs Opening\": 342})\n",
      "\n",
      "\n",
      "Counter({'1-0': 4882, '0-1': 4695, '1/2-1/2': 472})\n",
      "\n",
      "\n",
      "['1. e4 e5 2. d3 d6 3. Be3 c6 4. Be2 b5 5. Nd2 a5 6. a4 c5', '1. e4 c5 2. Nf3 Qa5', '1. e4 e5 2. Bc4 Nc6 3. Nf3 Nd4 4. d3 Nxf3+ 5. Qxf3 Nf6 6. h3 Bc5', '1. e4 d5 2. exd5 Qxd5 3. Nc3 Qe5+ 4. Be2 Na6 5. d4 Qf5 6. Bxa6 bxa6', '1. e3 e6 2. d4 d6 3. Bd3 c6 4. Nf3 Be7 5. Nc3 Nf6 6. Bd2 Bd7', '1. e4 e6 2. d4 d5 3. e5 c5 4. c3 Nc6 5. Nf3 Qb6 6. Be3 Qxb2', '1. e4 e6 2. Nf3 d5 3. exd5 exd5 4. Qe2+ Be7 5. Nc3 Nf6 6. d4 O-O', '1. e4 e6 2. Qh5 g6 3. Qe5 Nf6 4. d4 d6 5. Qb5+ Bd7 6. Qxb7 Bc6', '1. e4 e5 2. Nf3 Nc6 3. Bc4 Nf6 4. Ng5 Qe7 5. O-O Nxe4 6. Nxe4 h6', '1. e4 e5 2. Nf3 d6 3. Bc4 Be6 4. d3 Bxc4 5. dxc4 c5 6. O-O h6', '1. d4 d5 2. h3 Nc6 3. Nf3 Nf6 4. Bg5 h6 5. Bxf6 exf6 6. e3 Bb4+', '1. e4 e5 2. Nf3 Nc6 3. Bc4 h6 4. O-O Bc5 5. d3 Nf6 6. Nc3 Ng4', '1. e4 c5 2. Bc4 Nf6 3. Nc3 d6 4. Nf3 g6 5. Ng5 e6 6. d3 Bg7', '1. c4 Nc6 2. Nc3 e5 3. g3 Bc5 4. Bg2 Nge7 5. e3 b6 6. a3 Bb7', '1. e4 c5 2. d4 cxd4 3. Qxd4 Nc6 4. Qa4 e5 5. Be3 Nf6 6. Nf3 h6', '1. d4 d5 2. Nc3 Nf6 3. Bf4 Bf5 4. Nf3 e6 5. e3 Be7 6. Bb5+ c6', '1. d4 d5 2. Nc3 Nf6 3. Nf3 Nc6 4. e3 Bf5 5. h4 e6 6. g3 Bb4', '1. e4 c5 2. d4 cxd4 3. Qxd4 Nc6 4. Qa4 Nf6 5. Nc3 g6 6. Nf3 Bg7', '1. e4 c5 2. Nf3 d6 3. Bb5+ Bd7 4. Bxd7+ Nxd7 5. O-O Ngf6 6. Nc3 g6', '1. e4 c5 2. Nf3 d5 3. exd5 Qxd5 4. Nc3 Qe6+ 5. Qe2 Qxe2+ 6. Bxe2 Nf6', '1. e4 c5 2. Bc4 Nf6 3. d3 d6 4. Nf3 g6 5. Ng5 Bg7', '1. e4 c5 2. Nf3 d6 3. d4 cxd4 4. Nxd4 Nf6 5. Nc3 g6 6. Be3 Bg7', '1. c4 e5 2. Nc3 Bc5 3. g3 Nc6 4. Bg2 Nf6 5. Nf3 b6 6. Nxe5 Bb7', '1. e4 c5 2. Nf3 d6 3. d4 cxd4 4. Nxd4 Nf6 5. Nc3 g6 6. Bg5 Bg7', '1. e4 c5 2. Nc3 d6 3. Bc4 Nf6 4. Qe2 g6 5. e5 dxe5 6. Qxe5 Qd4', '1. e4 c5 2. d4 cxd4 3. Qxd4 Nc6 4. Qa4 Nf6 5. Nf3 g6 6. Bg5 Qa5+', '1. e4 c5 2. Nf3 d6 3. d4 cxd4 4. Nxd4 Nf6 5. Nc3 g6 6. Be3 Bg7', '1. e4 c5 2. d4 cxd4 3. Qxd4 Nc6 4. Qe3 Nf6 5. e5 Qa5+ 6. c3 Nxe5', '1. e4 c5 2. Bc4 Nc6 3. Nc3 d6 4. d3 Nf6 5. Nge2 g6 6. O-O Nd4', '1. e4 d5', '1. e4 c5 2. Bc4 Nf6 3. e5 Ne4', '1. e4 c5 2. Nf3 d6 3. d4 cxd4 4. Nxd4 Nf6 5. Nc3 g6 6. Be3 Bg7', '1. e4 d5 2. exd5 Qxd5 3. Qf3 Qe5+ 4. Ne2 Nf6 5. d4 Qd5 6. Qxd5 Nxd5', '1. d4 e6 2. e4 Qh4', '1. e4 e5 2. d4 d5 3. Nf3 dxe4', '1. c4 e5 2. b3 d5 3. Bb2 e4 4. d4 exd3 5. Qxd3 Nf6 6. Be5 dxc4', '1. e4 c5', '1. e4 e5 2. Nf3 d6 3. d4 exd4 4. Nxd4 g6 5. Bc4 Nf6 6. Bg5 Bg7', '1. e4 e5 2. Nf3 d6 3. Bc4 f5 4. exf5 Bxf5 5. Nc3 e4 6. Nd4 Bg6', '1. e4 e6 2. Nf3 d5 3. exd5 exd5 4. d4 Bg4 5. c4 Bb4+ 6. Bd2 Qe7+', '1. e4 e6 2. Bc4 d5 3. exd5 exd5 4. Bb3 Qe7+ 5. Ne2 Nf6 6. d4 Nc6', '1. e4 e6 2. Nc3 Bb4 3. Nge2 Ne7 4. a3 Bxc3 5. Nxc3 d5 6. d4 Nd7', '1. d4 d5 2. Bf4 e6 3. Nf3 c5 4. c3 Nc6 5. e3 Nf6 6. Nbd2 Bd6', '1. d4 d5 2. Bf4 Nc6 3. Nf3 f6 4. e3 g5 5. Bg3 a6 6. Bd3 g4', '1. e4 e6 2. d4 d5 3. e5 c5 4. dxc5 Bxc5 5. Nf3 Nc6 6. c3 Qc7', '1. d4 d5 2. Bf4 Nc6 3. e3 Nf6 4. Nf3 Bg4 5. h3 Bh5 6. c4 e6', '1. e4 e6 2. d4 d5 3. exd5 exd5 4. Bd3 Bd6 5. h3 Ne7 6. Nf3 O-O', '1. d4 Nf6 2. Bf4 d5 3. Nf3 e6 4. c4 Bd6 5. Bg3 Bxg3 6. hxg3 h6', '1. e4 e6 2. Qe2 c5 3. Nf3 Nc6 4. g3 g6 5. Bg2 Bg7 6. O-O Nge7', '1. d4 d5 2. Bf4 Nf6 3. Nf3 e6 4. e3 Bd6 5. Bg3 O-O 6. Bd3 b6', '1. e4 e6 2. f4 d5 3. e5 c5 4. Nf3 Nc6 5. c3 Nh6 6. d4 cxd4', '1. d4 d5 2. Bf4 Nf6 3. e3 g6 4. Nf3 Bg7 5. c4 dxc4 6. Bxc4 O-O', '1. d4 Nf6 2. Bf4 d5 3. Nf3 Nc6 4. e3 Bg4 5. h3 Bh5 6. c4 e6', '1. c4 Nc6 2. d4 g6 3. e3 Bg7 4. Nc3 d6 5. Bd2 Bf5 6. Nf3 Bg4', '1. d4 d5 2. Bf4 Nc6 3. Nf3 f6 4. e3 g5 5. Bg3 Be6 6. c3 Bf7', '1. e4 e6 2. d4 d5 3. Nc3 Bb4 4. e5 c5 5. a3 Bxc3+ 6. bxc3 cxd4', '1. d4 Nf6 2. Bf4 d5 3. Nf3 Bf5 4. e3 c6 5. Nbd2 Qb6 6. b3 Nbd7', '1. d4 d5 2. Bf4 e6 3. Nf3 c5 4. e3 Bd6 5. Bg3 Bxg3 6. hxg3 cxd4', '1. e4 e6 2. Nf3 d5 3. exd5 exd5 4. d4 Bg4 5. Be2 Qe7 6. O-O Nc6', '1. d4 d5 2. Bf4 Nf6 3. Nf3 h6 4. e3 e6 5. Bd3 Nc6 6. Nbd2 a6', '1. e4 e6 2. Nc3 d5 3. exd5 exd5 4. Nf3 Nf6 5. Bb5+ c6 6. Na4 cxb5', '1. d4 d5 2. Bf4 c5 3. e3 cxd4 4. exd4 e6 5. Nf3 Nc6 6. c3 h6', '1. d4 d5 2. Bf4 Nf6 3. Nf3 c5 4. e3 Bg4 5. Nbd2 cxd4 6. Bb5+ Nc6', '1. d4 Nf6 2. Bf4 d5 3. Nf3 Nc6 4. e3 Nh5 5. Bg3 Nxg3 6. hxg3 e6', '1. e4 e5 2. Bc4 Nc6 3. d3 Nf6 4. Nf3 Bc5 5. Ng5 d6 6. Nxf7 Qe7', '1. e4 e6 2. d4 d5 3. Nc3 c5 4. exd5 exd5 5. Nf3 Nc6 6. Bb5 Nf6', '1. e4 e6 2. d4 d5 3. e5 c5 4. c3 Qb6 5. Nf3 Nc6 6. a3 Bd7', '1. e4 e5 2. Nf3 d6 3. d4 Nc6 4. dxe5 dxe5 5. Qxd8+ Kxd8 6. Bb5 Bd6', '1. e4 e6 2. Nf3 d5 3. exd5 exd5 4. d4 Nf6 5. c4 c6 6. Nc3 Be6', '1. e4 e6 2. d4 d5 3. Nc3 dxe4 4. Nxe4 Bd7 5. Nf3 Bc6 6. Bd3 Nd7', '1. e4 e6 2. d4 d5 3. e5 c5 4. c3 Nc6 5. Nf3 Qb6 6. b3 cxd4', '1. e4 e5 2. Nf3 Nc6 3. Bc4 Bb4 4. c3 Bc5 5. b4 Bb6 6. d3 Nf6', '1. e4 c5 2. Nf3 Nf6 3. d4 Nxe4 4. dxc5 Nxc5 5. Qd5 e6 6. Qh5 Ne4', '1. e4 e5 2. Nf3 Nc6 3. Bc4 Nf6 4. Ng5 d5 5. exd5 Nxd5 6. Nxf7 Kxf7', '1. e4 e5 2. Nf3 Nc6 3. Bc4 h6 4. O-O d6 5. d3 a6 6. a4 Bg4', '1. e4 e5 2. Nf3 Nc6 3. Bc4 Nf6 4. Ng5 d5 5. exd5 Nxd5 6. Nxf7 Kxf7', '1. e4 e5 2. Nf3 Nc6 3. Bc4 h6 4. d4 d6 5. dxe5 Nxe5 6. Nxe5 dxe5', '1. d4 d5 2. e3 e6 3. c4 Bb4+ 4. Nd2 dxc4', '1. e4 c5 2. Nf3 d6 3. d4 cxd4 4. Nxd4 Nf6 5. Qe2 Nbd7 6. f3 e6', '1. c4 e5 2. g3 d5 3. cxd5 Qxd5 4. Nf3 g5 5. Nc3 Qc6 6. Bg2 g4', '1. e4 e5 2. Nf3 Nc6 3. Bc4 Nf6 4. Ng5 d5 5. exd5 Nxd5 6. Nxf7 Kxf7', '1. e4 e5 2. Nf3 Nc6 3. Bc4 Qe7 4. d3 Nf6 5. Bg5 h6', '1. d4 Nf6 2. Nc3 e6 3. e4 d5 4. e5 Nfd7 5. Nf3 Bb4 6. Bg5 f6', '1. e4 d5 2. exd5 Nf6 3. c4 c6 4. dxc6 Nxc6 5. d4 Qxd4 6. Be2 e5', '1. e4 c5 2. Nf3 Nc6 3. Bb5 a6 4. Be2 d6 5. O-O Nf6 6. Nc3 e5', '1. e4 c5 2. Nf3 g6 3. Nc3 Bg7 4. Bb5 a6 5. Be2 Nc6 6. O-O b5', '1. e4 e5 2. Nf3 Nc6 3. Bc4 h6 4. c3 Nf6 5. O-O Bc5 6. d4 exd4', '1. e4 e5 2. Nf3 Nc6 3. Bb5 Nf6 4. Ng5 Bc5 5. d3 O-O 6. h4 Nd4', '1. e4 c5 2. Nf3 d6 3. d4 cxd4 4. Nxd4 Nf6 5. Nc3 a6 6. Bc4 e6', '1. e4 e6 2. Nf3 d5 3. exd5 exd5 4. d4 Bd6 5. Bd3 Ne7 6. Bg5 f6', '1. e4 c5 2. Nf3 d6 3. c3 Nf6 4. d3 Bg4 5. Be2 Nc6 6. a3 e6', '1. e4 c5 2. Nf3 d6 3. Bb5+ Nc6 4. c4 a6 5. Ba4 Bd7 6. Nc3 Nf6', '1. e4 e5 2. Nf3 Nc6 3. Bb5 a6 4. Ba4 Bc5 5. c3 d6 6. d4 exd4', '1. e4 c5 2. Nf3 d6 3. Nc3 a6 4. a3 Nf6 5. Bc4 e6 6. d3 Nc6', '1. e4 c5 2. c3 d6 3. Bc4 Nf6 4. d3 a6 5. a4 e6 6. Bg5 Be7', '1. e4 c5 2. Nf3 e6 3. g3 Nc6 4. Bg2 Qc7 5. d3 e5 6. Nc3 Nd4', '1. e4 e6 2. Nf3 d5 3. exd5 exd5 4. d4 Nf6 5. Bd3 Be7 6. Bf4 O-O', '1. e4 c5 2. Nf3 d6 3. Bc4 Nf6 4. d3 a6 5. a3 g6 6. b4 Bg7', '1. e4 c5 2. Nf3 Nc6 3. Bb5 g6 4. O-O Bg7 5. Re1 Nf6 6. Nc3 O-O', '1. e4 c5 2. Nf3 d6 3. g3 Nf6 4. d3 Nc6 5. Bg2 g6 6. O-O Bg7']\n"
     ]
    }
   ],
   "source": [
    "\n",
    "print(Counter(test_openings))\n",
    "print(\"\\n\")\n",
    "print(Counter(test_win_lose))\n",
    "print(\"\\n\")\n",
    "print(test_data[0:100])"
   ]
  },
  {
   "cell_type": "markdown",
   "metadata": {},
   "source": [
    "Transforming the data into a dataframe"
   ]
  },
  {
   "cell_type": "code",
   "execution_count": 174,
   "metadata": {},
   "outputs": [
    {
     "data": {
      "text/html": [
       "<div>\n",
       "<style scoped>\n",
       "    .dataframe tbody tr th:only-of-type {\n",
       "        vertical-align: middle;\n",
       "    }\n",
       "\n",
       "    .dataframe tbody tr th {\n",
       "        vertical-align: top;\n",
       "    }\n",
       "\n",
       "    .dataframe thead th {\n",
       "        text-align: right;\n",
       "    }\n",
       "</style>\n",
       "<table border=\"1\" class=\"dataframe\">\n",
       "  <thead>\n",
       "    <tr style=\"text-align: right;\">\n",
       "      <th></th>\n",
       "      <th>moves</th>\n",
       "      <th>opening</th>\n",
       "      <th>result</th>\n",
       "    </tr>\n",
       "  </thead>\n",
       "  <tbody>\n",
       "    <tr>\n",
       "      <th>0</th>\n",
       "      <td>1. e4 e5 2. d3 d6 3. Be3 c6 4. Be2 b5 5. Nd2 a...</td>\n",
       "      <td>King's Pawn Game</td>\n",
       "      <td>1-0</td>\n",
       "    </tr>\n",
       "    <tr>\n",
       "      <th>1</th>\n",
       "      <td>1. e4 c5 2. Nf3 Qa5</td>\n",
       "      <td>Sicilian Defense</td>\n",
       "      <td>1/2-1/2</td>\n",
       "    </tr>\n",
       "    <tr>\n",
       "      <th>2</th>\n",
       "      <td>1. e4 e5 2. Bc4 Nc6 3. Nf3 Nd4 4. d3 Nxf3+ 5. ...</td>\n",
       "      <td>Italian Game</td>\n",
       "      <td>0-1</td>\n",
       "    </tr>\n",
       "    <tr>\n",
       "      <th>3</th>\n",
       "      <td>1. e4 d5 2. exd5 Qxd5 3. Nc3 Qe5+ 4. Be2 Na6 5...</td>\n",
       "      <td>Scandinavian Defense</td>\n",
       "      <td>1-0</td>\n",
       "    </tr>\n",
       "    <tr>\n",
       "      <th>4</th>\n",
       "      <td>1. e3 e6 2. d4 d6 3. Bd3 c6 4. Nf3 Be7 5. Nc3 ...</td>\n",
       "      <td>Van't Kruijs Opening</td>\n",
       "      <td>1-0</td>\n",
       "    </tr>\n",
       "    <tr>\n",
       "      <th>...</th>\n",
       "      <td>...</td>\n",
       "      <td>...</td>\n",
       "      <td>...</td>\n",
       "    </tr>\n",
       "    <tr>\n",
       "      <th>10044</th>\n",
       "      <td>1. e4 e6 2. Nf3 d5 3. Nc3 Bb4 4. exd5 exd5 5. ...</td>\n",
       "      <td>French Defense</td>\n",
       "      <td>1-0</td>\n",
       "    </tr>\n",
       "    <tr>\n",
       "      <th>10045</th>\n",
       "      <td>1. c4 e5 2. d4 exd4 3. Qxd4 Nf6 4. Bg5 Be7</td>\n",
       "      <td>English Opening</td>\n",
       "      <td>1-0</td>\n",
       "    </tr>\n",
       "    <tr>\n",
       "      <th>10046</th>\n",
       "      <td>1. e4 e6 2. Nf3 d5 3. Bb5+ Bd7 4. c4 c6 5. Ba4...</td>\n",
       "      <td>French Defense</td>\n",
       "      <td>0-1</td>\n",
       "    </tr>\n",
       "    <tr>\n",
       "      <th>10047</th>\n",
       "      <td>1. d4 d5 2. Bf4 Nc6 3. e3 Nf6 4. c3 e6 5. Nf3 ...</td>\n",
       "      <td>Queen's Pawn Game</td>\n",
       "      <td>1-0</td>\n",
       "    </tr>\n",
       "    <tr>\n",
       "      <th>10048</th>\n",
       "      <td>1. d4 d5 2. Bf4 Na6 3. e3 e6 4. c3 Nf6 5. Nf3 ...</td>\n",
       "      <td>Queen's Pawn Game</td>\n",
       "      <td>0-1</td>\n",
       "    </tr>\n",
       "  </tbody>\n",
       "</table>\n",
       "<p>10049 rows × 3 columns</p>\n",
       "</div>"
      ],
      "text/plain": [
       "                                                   moves  \\\n",
       "0      1. e4 e5 2. d3 d6 3. Be3 c6 4. Be2 b5 5. Nd2 a...   \n",
       "1                                    1. e4 c5 2. Nf3 Qa5   \n",
       "2      1. e4 e5 2. Bc4 Nc6 3. Nf3 Nd4 4. d3 Nxf3+ 5. ...   \n",
       "3      1. e4 d5 2. exd5 Qxd5 3. Nc3 Qe5+ 4. Be2 Na6 5...   \n",
       "4      1. e3 e6 2. d4 d6 3. Bd3 c6 4. Nf3 Be7 5. Nc3 ...   \n",
       "...                                                  ...   \n",
       "10044  1. e4 e6 2. Nf3 d5 3. Nc3 Bb4 4. exd5 exd5 5. ...   \n",
       "10045         1. c4 e5 2. d4 exd4 3. Qxd4 Nf6 4. Bg5 Be7   \n",
       "10046  1. e4 e6 2. Nf3 d5 3. Bb5+ Bd7 4. c4 c6 5. Ba4...   \n",
       "10047  1. d4 d5 2. Bf4 Nc6 3. e3 Nf6 4. c3 e6 5. Nf3 ...   \n",
       "10048  1. d4 d5 2. Bf4 Na6 3. e3 e6 4. c3 Nf6 5. Nf3 ...   \n",
       "\n",
       "                    opening   result  \n",
       "0          King's Pawn Game      1-0  \n",
       "1          Sicilian Defense  1/2-1/2  \n",
       "2              Italian Game      0-1  \n",
       "3      Scandinavian Defense      1-0  \n",
       "4      Van't Kruijs Opening      1-0  \n",
       "...                     ...      ...  \n",
       "10044        French Defense      1-0  \n",
       "10045       English Opening      1-0  \n",
       "10046        French Defense      0-1  \n",
       "10047     Queen's Pawn Game      1-0  \n",
       "10048     Queen's Pawn Game      0-1  \n",
       "\n",
       "[10049 rows x 3 columns]"
      ]
     },
     "execution_count": 174,
     "metadata": {},
     "output_type": "execute_result"
    }
   ],
   "source": [
    "openings = pd.DataFrame(test_openings)\n",
    "result = pd.DataFrame(test_win_lose)\n",
    "moves = pd.DataFrame(test_data)\n",
    "\n",
    " \n",
    "concacted = pd.concat([moves,openings,result],axis= 1)\n",
    "concacted.columns = ['moves','opening','result']\n",
    "concacted = concacted.dropna()\n",
    "concacted"
   ]
  },
  {
   "cell_type": "code",
   "execution_count": 175,
   "metadata": {},
   "outputs": [
    {
     "data": {
      "text/html": [
       "<div>\n",
       "<style scoped>\n",
       "    .dataframe tbody tr th:only-of-type {\n",
       "        vertical-align: middle;\n",
       "    }\n",
       "\n",
       "    .dataframe tbody tr th {\n",
       "        vertical-align: top;\n",
       "    }\n",
       "\n",
       "    .dataframe thead th {\n",
       "        text-align: right;\n",
       "    }\n",
       "</style>\n",
       "<table border=\"1\" class=\"dataframe\">\n",
       "  <thead>\n",
       "    <tr style=\"text-align: right;\">\n",
       "      <th></th>\n",
       "      <th>moves</th>\n",
       "      <th>opening</th>\n",
       "      <th>result</th>\n",
       "    </tr>\n",
       "  </thead>\n",
       "  <tbody>\n",
       "    <tr>\n",
       "      <th>0</th>\n",
       "      <td>1. e4 e5 2. d3 d6 3. Be3 c6 4. Be2 b5 5. Nd2 a...</td>\n",
       "      <td>King's Pawn Game</td>\n",
       "      <td>1-0</td>\n",
       "    </tr>\n",
       "    <tr>\n",
       "      <th>1</th>\n",
       "      <td>1. e4 c5 2. Nf3 Qa5</td>\n",
       "      <td>Sicilian Defense</td>\n",
       "      <td>1/2-1/2</td>\n",
       "    </tr>\n",
       "    <tr>\n",
       "      <th>2</th>\n",
       "      <td>1. e4 e5 2. Bc4 Nc6 3. Nf3 Nd4 4. d3 Nxf3+ 5. ...</td>\n",
       "      <td>Italian Game</td>\n",
       "      <td>0-1</td>\n",
       "    </tr>\n",
       "    <tr>\n",
       "      <th>3</th>\n",
       "      <td>1. e4 d5 2. exd5 Qxd5 3. Nc3 Qe5+ 4. Be2 Na6 5...</td>\n",
       "      <td>Scandinavian Defense</td>\n",
       "      <td>1-0</td>\n",
       "    </tr>\n",
       "    <tr>\n",
       "      <th>4</th>\n",
       "      <td>1. e3 e6 2. d4 d6 3. Bd3 c6 4. Nf3 Be7 5. Nc3 ...</td>\n",
       "      <td>Van't Kruijs Opening</td>\n",
       "      <td>1-0</td>\n",
       "    </tr>\n",
       "    <tr>\n",
       "      <th>...</th>\n",
       "      <td>...</td>\n",
       "      <td>...</td>\n",
       "      <td>...</td>\n",
       "    </tr>\n",
       "    <tr>\n",
       "      <th>10044</th>\n",
       "      <td>1. e4 e6 2. Nf3 d5 3. Nc3 Bb4 4. exd5 exd5 5. ...</td>\n",
       "      <td>French Defense</td>\n",
       "      <td>1-0</td>\n",
       "    </tr>\n",
       "    <tr>\n",
       "      <th>10045</th>\n",
       "      <td>1. c4 e5 2. d4 exd4 3. Qxd4 Nf6 4. Bg5 Be7</td>\n",
       "      <td>English Opening</td>\n",
       "      <td>1-0</td>\n",
       "    </tr>\n",
       "    <tr>\n",
       "      <th>10046</th>\n",
       "      <td>1. e4 e6 2. Nf3 d5 3. Bb5+ Bd7 4. c4 c6 5. Ba4...</td>\n",
       "      <td>French Defense</td>\n",
       "      <td>0-1</td>\n",
       "    </tr>\n",
       "    <tr>\n",
       "      <th>10047</th>\n",
       "      <td>1. d4 d5 2. Bf4 Nc6 3. e3 Nf6 4. c3 e6 5. Nf3 ...</td>\n",
       "      <td>Queen's Pawn Game</td>\n",
       "      <td>1-0</td>\n",
       "    </tr>\n",
       "    <tr>\n",
       "      <th>10048</th>\n",
       "      <td>1. d4 d5 2. Bf4 Na6 3. e3 e6 4. c3 Nf6 5. Nf3 ...</td>\n",
       "      <td>Queen's Pawn Game</td>\n",
       "      <td>0-1</td>\n",
       "    </tr>\n",
       "  </tbody>\n",
       "</table>\n",
       "<p>10049 rows × 3 columns</p>\n",
       "</div>"
      ],
      "text/plain": [
       "                                                   moves  \\\n",
       "0      1. e4 e5 2. d3 d6 3. Be3 c6 4. Be2 b5 5. Nd2 a...   \n",
       "1                                    1. e4 c5 2. Nf3 Qa5   \n",
       "2      1. e4 e5 2. Bc4 Nc6 3. Nf3 Nd4 4. d3 Nxf3+ 5. ...   \n",
       "3      1. e4 d5 2. exd5 Qxd5 3. Nc3 Qe5+ 4. Be2 Na6 5...   \n",
       "4      1. e3 e6 2. d4 d6 3. Bd3 c6 4. Nf3 Be7 5. Nc3 ...   \n",
       "...                                                  ...   \n",
       "10044  1. e4 e6 2. Nf3 d5 3. Nc3 Bb4 4. exd5 exd5 5. ...   \n",
       "10045         1. c4 e5 2. d4 exd4 3. Qxd4 Nf6 4. Bg5 Be7   \n",
       "10046  1. e4 e6 2. Nf3 d5 3. Bb5+ Bd7 4. c4 c6 5. Ba4...   \n",
       "10047  1. d4 d5 2. Bf4 Nc6 3. e3 Nf6 4. c3 e6 5. Nf3 ...   \n",
       "10048  1. d4 d5 2. Bf4 Na6 3. e3 e6 4. c3 Nf6 5. Nf3 ...   \n",
       "\n",
       "                    opening   result  \n",
       "0          King's Pawn Game      1-0  \n",
       "1          Sicilian Defense  1/2-1/2  \n",
       "2              Italian Game      0-1  \n",
       "3      Scandinavian Defense      1-0  \n",
       "4      Van't Kruijs Opening      1-0  \n",
       "...                     ...      ...  \n",
       "10044        French Defense      1-0  \n",
       "10045       English Opening      1-0  \n",
       "10046        French Defense      0-1  \n",
       "10047     Queen's Pawn Game      1-0  \n",
       "10048     Queen's Pawn Game      0-1  \n",
       "\n",
       "[10049 rows x 3 columns]"
      ]
     },
     "execution_count": 175,
     "metadata": {},
     "output_type": "execute_result"
    }
   ],
   "source": [
    "temp_data = concacted[\"moves\"]\n",
    "cols = [i  for i in range(0,len(temp_data)) if temp_data[i].find(\"eval\") != -1]\n",
    "concacted = concacted.drop(cols,axis=0,)\n",
    "concacted"
   ]
  },
  {
   "cell_type": "markdown",
   "metadata": {},
   "source": [
    "Transforming each column in numpy array"
   ]
  },
  {
   "cell_type": "code",
   "execution_count": 176,
   "metadata": {},
   "outputs": [],
   "source": [
    "moves = np.array(concacted[\"moves\"])\n",
    "openings = np.array(concacted[\"opening\"])\n",
    "result = np.array(concacted[\"result\"])"
   ]
  },
  {
   "cell_type": "markdown",
   "metadata": {},
   "source": [
    "Transforming the moves into tensors so that they can be filled in the CNN"
   ]
  },
  {
   "cell_type": "code",
   "execution_count": 177,
   "metadata": {},
   "outputs": [],
   "source": [
    "from sentence_transformers import SentenceTransformer\n",
    "\n",
    "model = SentenceTransformer('paraphrase-MiniLM-L6-v2')\n",
    "\n",
    "embeded_movements = model.encode(moves)"
   ]
  },
  {
   "cell_type": "markdown",
   "metadata": {},
   "source": [
    "Verifying that the transformation did not delete some data"
   ]
  },
  {
   "cell_type": "code",
   "execution_count": 179,
   "metadata": {},
   "outputs": [
    {
     "name": "stdout",
     "output_type": "stream",
     "text": [
      "True\n"
     ]
    }
   ],
   "source": [
    "def openingToIndex(o):\n",
    "    return all_openings.index(o)\n",
    "\n",
    "all_openings = list(Counter(openings).keys())\n",
    "\n",
    "opening_labels = []\n",
    "\n",
    "for o in openings:\n",
    "    opening_labels.append(openingToIndex(o))\n",
    "\n",
    "\n",
    "\n",
    "opening_labels = np.array(opening_labels)\n",
    "print(len(embeded_movements) == len(opening_labels))"
   ]
  },
  {
   "cell_type": "markdown",
   "metadata": {},
   "source": [
    "To ensure a better accuracy of the model I will use the resample method. It consists of duplicating some data of the classes that are under represented in the data."
   ]
  },
  {
   "cell_type": "code",
   "execution_count": null,
   "metadata": {},
   "outputs": [],
   "source": [
    "\n",
    "model_RandomOverSampler=RandomOverSampler()\n",
    "\n",
    "embeded_movements,opening_labels =  model_RandomOverSampler.fit_resample(embeded_movements,opening_labels) "
   ]
  },
  {
   "cell_type": "code",
   "execution_count": 181,
   "metadata": {},
   "outputs": [
    {
     "name": "stdout",
     "output_type": "stream",
     "text": [
      "Counter({0: 2526, 1: 2526, 2: 2526, 3: 2526, 4: 2526, 5: 2526, 6: 2526, 7: 2526, 8: 2526, 9: 2526})\n",
      "25260\n"
     ]
    }
   ],
   "source": [
    "print(Counter(opening_labels))\n",
    "print(len(embeded_movements))"
   ]
  },
  {
   "cell_type": "code",
   "execution_count": null,
   "metadata": {},
   "outputs": [
    {
     "name": "stdout",
     "output_type": "stream",
     "text": [
      "Counter({6: 541, 8: 535, 1: 532, 5: 516, 3: 501, 4: 491, 9: 486, 7: 485, 0: 484, 2: 481})\n",
      "Counter({2: 2045, 0: 2042, 7: 2041, 9: 2040, 4: 2035, 3: 2025, 5: 2010, 1: 1994, 8: 1991, 6: 1985})\n",
      "Counter({7: 1757, 9: 1745, 4: 1745, 2: 1738, 3: 1711, 0: 1709, 6: 1706, 8: 1699, 5: 1688, 1: 1678})\n",
      "Counter({0: 333, 5: 322, 1: 316, 3: 314, 2: 307, 9: 295, 8: 292, 4: 290, 7: 284, 6: 279})\n"
     ]
    }
   ],
   "source": [
    "shuffle_index = [i for i in range(len(opening_labels))]\n",
    "\n",
    "random.shuffle(shuffle_index)\n",
    "\n",
    "opening_labels = opening_labels[shuffle_index]\n",
    "\n",
    "# random.shuffle(shuffle_index)\n",
    "embeded_movements = embeded_movements[shuffle_index]\n",
    "# win_lose = win_lose[shuffle_index]\n",
    "\n",
    "\n",
    "test_ratio = 0.2\n",
    "sep_index_test = int(len(embeded_movements) * (1- test_ratio))\n",
    "\n",
    "embeded_movements_test = embeded_movements[sep_index_test:]\n",
    "opening_labels_test = opening_labels[sep_index_test:]\n",
    "\n",
    "print(Counter(opening_labels_test))\n",
    "\n",
    "embeded_movements_sep = embeded_movements[:sep_index_test]\n",
    "opening_labels_sep = opening_labels[:sep_index_test]\n",
    "\n",
    "print(Counter(opening_labels_sep))\n",
    "\n",
    "\n",
    "\n",
    "train_ratio = 0.85\n",
    "\n",
    "sep_index = int(len(embeded_movements_sep) * train_ratio)\n",
    "\n",
    "\n",
    "embeded_movements_train  = embeded_movements_sep[:sep_index]\n",
    "opening_labels_train = opening_labels_sep[:sep_index]\n",
    "\n",
    "embeded_movements_valid  = embeded_movements_sep[sep_index:]\n",
    "opening_labels_valid = opening_labels_sep[sep_index:]\n",
    "\n",
    "print(Counter(opening_labels_train))\n",
    "print(Counter(opening_labels_valid))"
   ]
  },
  {
   "cell_type": "code",
   "execution_count": 183,
   "metadata": {},
   "outputs": [
    {
     "ename": "AssertionError",
     "evalue": "Torch not compiled with CUDA enabled",
     "output_type": "error",
     "traceback": [
      "\u001b[1;31m---------------------------------------------------------------------------\u001b[0m",
      "\u001b[1;31mAssertionError\u001b[0m                            Traceback (most recent call last)",
      "Cell \u001b[1;32mIn[183], line 23\u001b[0m\n\u001b[0;32m     21\u001b[0m Train_label_batch \u001b[38;5;241m=\u001b[39m {}\n\u001b[0;32m     22\u001b[0m \u001b[38;5;28;01mfor\u001b[39;00m i \u001b[38;5;129;01min\u001b[39;00m \u001b[38;5;28mrange\u001b[39m (\u001b[38;5;241m0\u001b[39m,batch_num):\n\u001b[1;32m---> 23\u001b[0m   Train_data_batch[i] \u001b[38;5;241m=\u001b[39m \u001b[43membeded_movements_train\u001b[49m\u001b[43m[\u001b[49m\u001b[43mmath\u001b[49m\u001b[38;5;241;43m.\u001b[39;49m\u001b[43mfloor\u001b[49m\u001b[43m(\u001b[49m\u001b[43mi\u001b[49m\u001b[38;5;241;43m*\u001b[39;49m\u001b[43mtrain_batch_size\u001b[49m\u001b[43m)\u001b[49m\u001b[43m:\u001b[49m\u001b[43mmath\u001b[49m\u001b[38;5;241;43m.\u001b[39;49m\u001b[43mfloor\u001b[49m\u001b[43m(\u001b[49m\u001b[43m(\u001b[49m\u001b[43mi\u001b[49m\u001b[38;5;241;43m+\u001b[39;49m\u001b[38;5;241;43m1\u001b[39;49m\u001b[43m)\u001b[49m\u001b[38;5;241;43m*\u001b[39;49m\u001b[43mtrain_batch_size\u001b[49m\u001b[43m)\u001b[49m\u001b[43m]\u001b[49m\u001b[38;5;241;43m.\u001b[39;49m\u001b[43mcuda\u001b[49m\u001b[43m(\u001b[49m\u001b[43m)\u001b[49m\n\u001b[0;32m     24\u001b[0m   Train_label_batch[i] \u001b[38;5;241m=\u001b[39m opening_labels_train[math\u001b[38;5;241m.\u001b[39mfloor(i\u001b[38;5;241m*\u001b[39mtrain_batch_size):math\u001b[38;5;241m.\u001b[39mfloor((i\u001b[38;5;241m+\u001b[39m\u001b[38;5;241m1\u001b[39m)\u001b[38;5;241m*\u001b[39mtrain_batch_size)]\u001b[38;5;241m.\u001b[39mcuda()\n\u001b[0;32m     25\u001b[0m   \u001b[38;5;66;03m# print(len(Train_data_batch[i]))\u001b[39;00m\n\u001b[0;32m     26\u001b[0m   \u001b[38;5;66;03m# print(len(Train_label_batch[i]))\u001b[39;00m\n\u001b[0;32m     27\u001b[0m   \u001b[38;5;66;03m# print(Counter(Train_label_batch[i]))\u001b[39;00m\n",
      "File \u001b[1;32mc:\\Users\\gaell\\anaconda3\\Lib\\site-packages\\torch\\cuda\\__init__.py:284\u001b[0m, in \u001b[0;36m_lazy_init\u001b[1;34m()\u001b[0m\n\u001b[0;32m    279\u001b[0m     \u001b[38;5;28;01mraise\u001b[39;00m \u001b[38;5;167;01mRuntimeError\u001b[39;00m(\n\u001b[0;32m    280\u001b[0m         \u001b[38;5;124m\"\u001b[39m\u001b[38;5;124mCannot re-initialize CUDA in forked subprocess. To use CUDA with \u001b[39m\u001b[38;5;124m\"\u001b[39m\n\u001b[0;32m    281\u001b[0m         \u001b[38;5;124m\"\u001b[39m\u001b[38;5;124mmultiprocessing, you must use the \u001b[39m\u001b[38;5;124m'\u001b[39m\u001b[38;5;124mspawn\u001b[39m\u001b[38;5;124m'\u001b[39m\u001b[38;5;124m start method\u001b[39m\u001b[38;5;124m\"\u001b[39m\n\u001b[0;32m    282\u001b[0m     )\n\u001b[0;32m    283\u001b[0m \u001b[38;5;28;01mif\u001b[39;00m \u001b[38;5;129;01mnot\u001b[39;00m \u001b[38;5;28mhasattr\u001b[39m(torch\u001b[38;5;241m.\u001b[39m_C, \u001b[38;5;124m\"\u001b[39m\u001b[38;5;124m_cuda_getDeviceCount\u001b[39m\u001b[38;5;124m\"\u001b[39m):\n\u001b[1;32m--> 284\u001b[0m     \u001b[38;5;28;01mraise\u001b[39;00m \u001b[38;5;167;01mAssertionError\u001b[39;00m(\u001b[38;5;124m\"\u001b[39m\u001b[38;5;124mTorch not compiled with CUDA enabled\u001b[39m\u001b[38;5;124m\"\u001b[39m)\n\u001b[0;32m    285\u001b[0m \u001b[38;5;28;01mif\u001b[39;00m _cudart \u001b[38;5;129;01mis\u001b[39;00m \u001b[38;5;28;01mNone\u001b[39;00m:\n\u001b[0;32m    286\u001b[0m     \u001b[38;5;28;01mraise\u001b[39;00m \u001b[38;5;167;01mAssertionError\u001b[39;00m(\n\u001b[0;32m    287\u001b[0m         \u001b[38;5;124m\"\u001b[39m\u001b[38;5;124mlibcudart functions unavailable. It looks like you have a broken build?\u001b[39m\u001b[38;5;124m\"\u001b[39m\n\u001b[0;32m    288\u001b[0m     )\n",
      "\u001b[1;31mAssertionError\u001b[0m: Torch not compiled with CUDA enabled"
     ]
    }
   ],
   "source": [
    "embeded_movements_test = torch.from_numpy(embeded_movements_test).float()\n",
    "# opening_labels_test= torch.from_numpy(np.array(opening_labels_test)).long()\n",
    "embeded_movements_test = embeded_movements_test.reshape(embeded_movements_test.shape[0],1,embeded_movements_test.shape[1])\n",
    "\n",
    "embeded_movements_train = torch.from_numpy(embeded_movements_train).float()\n",
    "opening_labels_train= torch.from_numpy(np.array(opening_labels_train)).long()\n",
    "\n",
    "embeded_movements_valid = torch.from_numpy(embeded_movements_valid).float()\n",
    "opening_labels_valid= torch.from_numpy(np.array(opening_labels_valid)).long()\n",
    "\n",
    "embeded_movements_train = embeded_movements_train.reshape(embeded_movements_train.shape[0],1,embeded_movements_train.shape[1])\n",
    "embeded_movements_valid = embeded_movements_valid.reshape(embeded_movements_valid.shape[0],1,embeded_movements_valid.shape[1])\n",
    "\n",
    "\n",
    "batch_num = 200\n",
    "train_batch_size =len(embeded_movements_train)/batch_num\n",
    "valid_batch_size = len(embeded_movements_valid)/batch_num\n",
    "test_batch_size = len(embeded_movements_test)/batch_num\n",
    "\n",
    "Train_data_batch = {}\n",
    "Train_label_batch = {}\n",
    "for i in range (0,batch_num):\n",
    "  Train_data_batch[i] = embeded_movements_train[math.floor(i*train_batch_size):math.floor((i+1)*train_batch_size)].cuda()\n",
    "  Train_label_batch[i] = opening_labels_train[math.floor(i*train_batch_size):math.floor((i+1)*train_batch_size)].cuda()\n",
    "  # print(len(Train_data_batch[i]))\n",
    "  # print(len(Train_label_batch[i]))\n",
    "  # print(Counter(Train_label_batch[i]))\n",
    "\n",
    "Valid_data_batch = {}\n",
    "Valid_label_batch = {}\n",
    "for i in range (0,batch_num):\n",
    "  Valid_data_batch[i] = embeded_movements_valid[math.floor(i*valid_batch_size):math.floor((i+1)*valid_batch_size)].cuda()\n",
    "  Valid_label_batch[i] = opening_labels_valid[math.floor(i*valid_batch_size):math.floor((i+1)*valid_batch_size)].cuda()\n",
    "\n",
    "\n",
    "Test_data_batch = {}\n",
    "for i in range (0,batch_num):\n",
    "  Test_data_batch[i] = embeded_movements_test[math.floor(i*test_batch_size):math.floor((i+1)*test_batch_size)].cuda()"
   ]
  },
  {
   "cell_type": "code",
   "execution_count": null,
   "metadata": {},
   "outputs": [],
   "source": [
    "print(Counter(opening_labels_test))\n",
    "\n",
    "print(len(embeded_movements_train))\n",
    "print(len(opening_labels_train))\n",
    "\n",
    "print(Valid_data_batch[0].shape)\n",
    "\n",
    "print(len(all_openings))"
   ]
  },
  {
   "cell_type": "markdown",
   "metadata": {},
   "source": [
    "## Training"
   ]
  },
  {
   "cell_type": "code",
   "execution_count": null,
   "metadata": {},
   "outputs": [],
   "source": [
    "n_label = len(all_openings)\n",
    "\n",
    "class Net(nn.Module):\n",
    "  def __init__(self):\n",
    "    super(Net, self).__init__()\n",
    "\n",
    "    self.convlayer1 = nn.Sequential(\n",
    "      nn.Conv1d(1,128,5,2),\n",
    "      nn.MaxPool1d(2,2),\n",
    "      nn.BatchNorm1d(128),\n",
    "      nn.ReLU()\n",
    "    )\n",
    "\n",
    "    self.convlayer2 = nn.Sequential(\n",
    "      nn.Conv1d(128,256,5,2),\n",
    "      nn.MaxPool1d(2,2),\n",
    "      nn.BatchNorm1d(256),\n",
    "      nn.ReLU()\n",
    "    )\n",
    "\n",
    "    self.convlayer3 = nn.Sequential(\n",
    "      nn.Conv1d(256,64,5,2),\n",
    "      nn.MaxPool1d(2,2),\n",
    "      nn.BatchNorm1d(64),\n",
    "      nn.ReLU()\n",
    "      \n",
    "    )\n",
    "\n",
    "    self.fullyconnected = nn.Sequential(\n",
    "      nn.Linear(5*64,250),\n",
    "      nn.BatchNorm1d(250),\n",
    "      nn.ReLU(),\n",
    "      nn.Dropout(0.5),\n",
    "\n",
    "      nn.Linear(250,200),\n",
    "      nn.BatchNorm1d(200),\n",
    "      nn.ReLU(),\n",
    "\n",
    "\n",
    "      nn.Linear(200,n_label),\n",
    "    )\n",
    "\n",
    "  def forward(self, x):\n",
    "    \n",
    "    x = self.convlayer1(x)\n",
    "    x = self.convlayer2(x)\n",
    "    x = self.convlayer3(x)\n",
    "    x = x.view(-1,5*64)\n",
    "    x = self.fullyconnected(x)\n",
    "\n",
    "    return x"
   ]
  },
  {
   "cell_type": "code",
   "execution_count": null,
   "metadata": {},
   "outputs": [],
   "source": [
    "def trainNet(model,criterion,optimizer,epochs):\n",
    "    loss_index = []\n",
    "    train_losslist = []\n",
    "    valid_losslist = []\n",
    "\n",
    "    valid_loss_min = np.Inf # track change in validation loss\n",
    "    \n",
    "    for t in range(epochs):\n",
    "        ######################\n",
    "        # Training the model #\n",
    "        ######################\n",
    "        loss_training = 0\n",
    "        loss_validating = 0\n",
    "\n",
    "        model.train()\n",
    "        \n",
    "        for i in range (0,batch_num):\n",
    "            # Clearing the gradients of all optimized variables\n",
    "            optimizer.zero_grad()\n",
    "            # Forward pass: Computing predicted outputs\n",
    "            output = model(Train_data_batch[i])\n",
    "            # Calculating the batch loss\n",
    "            loss = criterion(output, Train_label_batch[i])\n",
    "            # Backward pass: compute gradient of loss with respect to parameters\n",
    "            loss.backward()\n",
    "            # Perform a single optimization step (parameter update)\n",
    "            optimizer.step()\n",
    "            # Update training loss\n",
    "            loss_training += loss.item()*(len(Train_data_batch[i]))\n",
    "\n",
    "\n",
    "\n",
    "        ########################    \n",
    "        # Validating the model #\n",
    "        ########################\n",
    "        model.eval()\n",
    "        for i in range (0,batch_num):\n",
    "            output = model(Valid_data_batch[i])\n",
    "            loss = criterion(output, Valid_label_batch[i])\n",
    "            # Update validating loss\n",
    "            loss_validating += loss.item()*(len(Valid_data_batch[i]))\n",
    "            \n",
    "\n",
    "        # Calculating average losses\n",
    "        train_loss = loss_training/len(embeded_movements_train)\n",
    "        valid_loss = loss_validating/len(embeded_movements_valid)\n",
    "\n",
    "\n",
    "        loss_index.append(t+1)\n",
    "        train_losslist.append(train_loss)\n",
    "        valid_losslist.append(valid_loss)\n",
    "\n",
    "        \n",
    "        print(\"[Epoch {t:5d} of {epochs}] Train loss: {train_loss:1.6f}, Validation Loss: {valid_loss:.6f}\".format(\n",
    "            t=t+1,epochs = epochs,train_loss = train_loss,valid_loss=valid_loss))\n",
    "\n",
    "        # Saving model if validation loss has decreased\n",
    "        if valid_loss <= valid_loss_min:\n",
    "            print('Validation loss decreased ({:.6f} --> {:.6f}).  Saving model ...'.format(\n",
    "                valid_loss_min,valid_loss))\n",
    "            torch.save(model.state_dict(), 'model_cifar.pt')\n",
    "            valid_loss_min = valid_loss\n",
    "\n",
    "    return loss_index,train_losslist,valid_losslist\n",
    "\n",
    "\n",
    "def predict(model,data):\n",
    "    pred = model(data)\n",
    "    pred = pred.cpu().detach().numpy()\n",
    "    pred = np.argmax(pred,axis=1)\n",
    "    return pred.tolist()\n",
    "\n",
    "    "
   ]
  },
  {
   "cell_type": "code",
   "execution_count": null,
   "metadata": {},
   "outputs": [],
   "source": [
    "model = Net().to(\"cuda\")\n",
    "criterion = nn.CrossEntropyLoss()\n",
    "optimizer = torch.optim.Adam(model.parameters(), lr=.0001,betas=(0.9,0.999),weight_decay=0.02)\n",
    "epochs = 10\n",
    "\n",
    "print(model)"
   ]
  },
  {
   "cell_type": "code",
   "execution_count": null,
   "metadata": {},
   "outputs": [],
   "source": [
    "loss_index,train_losslist,valid_losslist = trainNet(model,criterion,optimizer,epochs)"
   ]
  },
  {
   "cell_type": "code",
   "execution_count": null,
   "metadata": {},
   "outputs": [],
   "source": [
    "model.load_state_dict(torch.load('model_cifar.pt'))"
   ]
  },
  {
   "cell_type": "code",
   "execution_count": null,
   "metadata": {},
   "outputs": [],
   "source": [
    "Yhat_test = []\n",
    "# print(clf.predict(X_Valid_batch[0]))\n",
    "for i in range (0,batch_num):\n",
    "    # print(clf.predict(X_Valid_batch[0]))\n",
    "    prediction = predict(model,Test_data_batch[i])\n",
    "    Yhat_test += prediction\n",
    "\n",
    "# dasfads = opening_labels_test.values().tolist()\n",
    "# print(Counter(dasfads))\n",
    "print(Counter(Yhat_test))\n",
    "print(Counter(opening_labels_test))\n",
    "\n",
    "\n",
    "print('Test Accuracy = {score:.5}'.format(score=accuracy_score(opening_labels_test,Yhat_test)))\n",
    "print('F1 Score = {f1score:.5}'.format(f1score=f1_score(opening_labels_test,Yhat_test, average=\"macro\")))"
   ]
  },
  {
   "cell_type": "code",
   "execution_count": null,
   "metadata": {},
   "outputs": [],
   "source": [
    "# Plotting confusion matrix\n",
    "cm = confusion_matrix(opening_labels_test,Yhat_test,normalize='true')\n",
    "disp = ConfusionMatrixDisplay(confusion_matrix=cm,display_labels=classes)\n",
    "fig, ax = plt.subplots(figsize=(20,20))\n",
    "disp.plot(ax = ax)"
   ]
  },
  {
   "cell_type": "code",
   "execution_count": null,
   "metadata": {},
   "outputs": [],
   "source": [
    "plt.plot(loss_index, train_losslist,loss_index, valid_losslist)\n",
    "plt.xlabel(\"Index\")\n",
    "plt.ylabel(\"Loss\")\n",
    "plt.legend([\"Training\",\"Validating\"])\n",
    "plt.title(\"Loss Curve\")\n",
    "plt.show()"
   ]
  }
 ],
 "metadata": {
  "kernelspec": {
   "display_name": "base",
   "language": "python",
   "name": "python3"
  },
  "language_info": {
   "codemirror_mode": {
    "name": "ipython",
    "version": 3
   },
   "file_extension": ".py",
   "mimetype": "text/x-python",
   "name": "python",
   "nbconvert_exporter": "python",
   "pygments_lexer": "ipython3",
   "version": "3.11.5"
  }
 },
 "nbformat": 4,
 "nbformat_minor": 2
}
