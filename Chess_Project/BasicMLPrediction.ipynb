{
 "cells": [
  {
   "cell_type": "markdown",
   "metadata": {},
   "source": [
    "## Basic Winner Prediction\n",
    "\n",
    "To start the project we will try to predict the winner of a game (white win, black win or draw). This type of prediction have already been made a thousand times but this is a good start for our project."
   ]
  },
  {
   "cell_type": "code",
   "execution_count": 17,
   "metadata": {},
   "outputs": [
    {
     "name": "stdout",
     "output_type": "stream",
     "text": [
      "<class 'pandas.core.frame.DataFrame'>\n",
      "RangeIndex: 19113 entries, 0 to 19112\n",
      "Data columns (total 16 columns):\n",
      " #   Column          Non-Null Count  Dtype  \n",
      "---  ------          --------------  -----  \n",
      " 0   id              19113 non-null  object \n",
      " 1   rated           19113 non-null  bool   \n",
      " 2   created_at      19113 non-null  float64\n",
      " 3   last_move_at    19113 non-null  float64\n",
      " 4   turns           19113 non-null  int64  \n",
      " 5   victory_status  19113 non-null  object \n",
      " 6   winner          19113 non-null  object \n",
      " 7   increment_code  19113 non-null  object \n",
      " 8   white_id        19113 non-null  object \n",
      " 9   white_rating    19113 non-null  int64  \n",
      " 10  black_id        19113 non-null  object \n",
      " 11  black_rating    19113 non-null  int64  \n",
      " 12  moves           19113 non-null  object \n",
      " 13  opening_eco     19113 non-null  object \n",
      " 14  opening_name    19113 non-null  object \n",
      " 15  opening_ply     19113 non-null  int64  \n",
      "dtypes: bool(1), float64(2), int64(4), object(9)\n",
      "memory usage: 2.2+ MB\n"
     ]
    }
   ],
   "source": [
    "import pandas as pd\n",
    "import seaborn as sns\n",
    "from sklearn.model_selection import train_test_split\n",
    "from sklearn.ensemble import RandomForestClassifier\n",
    "from sklearn.metrics import classification_report, confusion_matrix\n",
    "import warnings\n",
    "\n",
    "warnings.filterwarnings('ignore')\n",
    "\n",
    "df_games = pd.read_csv(\"CSV_Output/games_cleaned.csv\")\n",
    "df_games.info()"
   ]
  },
  {
   "cell_type": "markdown",
   "metadata": {},
   "source": [
    "### Setting up the dataset\n",
    "We are going to keep only the player ratings and number of turns of the gamebecausse these are the most correlated feature to the winner feature"
   ]
  },
  {
   "cell_type": "code",
   "execution_count": 18,
   "metadata": {},
   "outputs": [],
   "source": [
    "dataset = df_games[['turns', 'winner', 'white_rating', 'black_rating']]"
   ]
  },
  {
   "cell_type": "markdown",
   "metadata": {},
   "source": [
    "### Building and testing the model\n",
    "\n"
   ]
  },
  {
   "cell_type": "code",
   "execution_count": 19,
   "metadata": {},
   "outputs": [],
   "source": [
    "def randomForest(data): \n",
    "    y = data['winner']\n",
    "    x = data.drop(['winner'], axis = 1)\n",
    "\n",
    "    x_train, x_test, y_train, y_test = train_test_split(x, y, test_size = 0.2, random_state=42)\n",
    "\n",
    "    rfc = RandomForestClassifier(n_estimators=100, max_depth=None, random_state=42)\n",
    "    rfc.fit(x_train, y_train)\n",
    "    return rfc, x_test, y_test\n",
    "\n",
    "rfc, x_test, y_test = randomForest(dataset)\n",
    "y_pred = rfc.predict(x_test)"
   ]
  },
  {
   "cell_type": "markdown",
   "metadata": {},
   "source": [
    "We can see below and accuracy of 66% of our model."
   ]
  },
  {
   "cell_type": "code",
   "execution_count": 20,
   "metadata": {},
   "outputs": [
    {
     "name": "stdout",
     "output_type": "stream",
     "text": [
      "              precision    recall  f1-score   support\n",
      "\n",
      "       black       0.63      0.67      0.65      1704\n",
      "        draw       0.12      0.02      0.03       175\n",
      "       white       0.68      0.70      0.69      1944\n",
      "\n",
      "    accuracy                           0.66      3823\n",
      "   macro avg       0.48      0.46      0.46      3823\n",
      "weighted avg       0.64      0.66      0.64      3823\n",
      "\n"
     ]
    },
    {
     "data": {
      "image/png": "[encoded data removed]",
      "text/plain": [
       "<Figure size 640x480 with 2 Axes>"
      ]
     },
     "metadata": {},
     "output_type": "display_data"
    }
   ],
   "source": [
    "def confusionMatrixDisplay(y_test, y_pred):\n",
    "    cm = confusion_matrix(y_test, y_pred)\n",
    "    heatmap = sns.heatmap(cm, annot=True, fmt='d')\n",
    "    heatmap.set_title('Confusion matrix')\n",
    "    heatmap.set_xlabel('Predicted outcome')\n",
    "    heatmap.set_ylabel('Actual outcome')\n",
    "    print(classification_report(y_test, y_pred))\n",
    "\n",
    "confusionMatrixDisplay(y_test, y_pred)"
   ]
  },
  {
   "cell_type": "markdown",
   "metadata": {},
   "source": [
    "This type of prediction is a basic way to predict the winner. We want to go further into the prediction and predict the outcome of the game, whether the white or black wins and how (mate, out of time, resignation)."
   ]
  }
 ],
 "metadata": {
  "kernelspec": {
   "display_name": "Python 3",
   "language": "python",
   "name": "python3"
  },
  "language_info": {
   "codemirror_mode": {
    "name": "ipython",
    "version": 3
   },
   "file_extension": ".py",
   "mimetype": "text/x-python",
   "name": "python",
   "nbconvert_exporter": "python",
   "pygments_lexer": "ipython3",
   "version": "3.11.6"
  }
 },
 "nbformat": 4,
 "nbformat_minor": 2
}
